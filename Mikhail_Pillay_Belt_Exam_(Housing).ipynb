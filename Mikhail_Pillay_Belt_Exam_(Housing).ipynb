{
  "nbformat": 4,
  "nbformat_minor": 0,
  "metadata": {
    "colab": {
      "provenance": [],
      "authorship_tag": "ABX9TyP/VtM5rVYkF2vPMofITdmp",
      "include_colab_link": true
    },
    "kernelspec": {
      "name": "python3",
      "display_name": "Python 3"
    },
    "language_info": {
      "name": "python"
    }
  },
  "cells": [
    {
      "cell_type": "markdown",
      "metadata": {
        "id": "view-in-github",
        "colab_type": "text"
      },
      "source": [
        "<a href=\"https://colab.research.google.com/github/Mix1996/Project-2-Classification/blob/main/Mikhail_Pillay_Belt_Exam_(Housing).ipynb\" target=\"_parent\"><img src=\"https://colab.research.google.com/assets/colab-badge.svg\" alt=\"Open In Colab\"/></a>"
      ]
    },
    {
      "cell_type": "markdown",
      "source": [
        "#Part 1: Clustering"
      ],
      "metadata": {
        "id": "ZWWtY8XzCVaR"
      }
    },
    {
      "cell_type": "markdown",
      "source": [
        "##Imports"
      ],
      "metadata": {
        "id": "akLll29RHzi7"
      }
    },
    {
      "cell_type": "code",
      "execution_count": 257,
      "metadata": {
        "id": "tdgJPyohHkh4"
      },
      "outputs": [],
      "source": [
        "import pandas as pd\n",
        "import numpy as np\n",
        "import matplotlib.pyplot as plt\n",
        "\n",
        "from sklearn.preprocessing import StandardScaler\n",
        "from sklearn.model_selection import train_test_split\n",
        "from sklearn.metrics import silhouette_score, classification_report, confusion_matrix\n",
        "from sklearn.cluster import KMeans\n",
        "from sklearn.decomposition import PCA\n",
        "from sklearn.preprocessing import StandardScaler\n",
        "import random\n",
        "\n",
        "\n",
        "# new libraries\n",
        "from sklearn.cluster import KMeans\n",
        "from sklearn.metrics import silhouette_score"
      ]
    },
    {
      "cell_type": "markdown",
      "source": [
        "##Load the dataset"
      ],
      "metadata": {
        "id": "eoYs-k_2H5rd"
      }
    },
    {
      "cell_type": "code",
      "source": [
        "df1 = pd.read_csv('https://docs.google.com/spreadsheets/d/e/2PACX-1vRL54FnuVgNgtTgb3_EWf4f52ZLCPvFv941-i1hRxCLha7ApC_B3VnFOhotN7rXIPOesnVAAd9vndcT/pub?output=csv')\n",
        "df1.head()"
      ],
      "metadata": {
        "colab": {
          "base_uri": "https://localhost:8080/",
          "height": 256
        },
        "id": "dhDSW6WqIBCu",
        "outputId": "61cafe1c-c5ef-42bf-b041-ed8d419924fd"
      },
      "execution_count": 258,
      "outputs": [
        {
          "output_type": "execute_result",
          "data": {
            "text/plain": [
              "   SalePrice  SqFt1stFloor  SqFtHalfFloor  SqFt2ndFloor  SqFtUpperFloor  \\\n",
              "0     400000          1590              0             0               0   \n",
              "1     474250          1390              0             0               0   \n",
              "2     667950          1010              0          1515               0   \n",
              "3     659000           660              0           540               0   \n",
              "4     656500          2310              0             0               0   \n",
              "\n",
              "   SqFtTotLiving  SqFtTotBasement  SqFtFinBasement  SqFtGarageBasement  \\\n",
              "0           3180             1590             1590                   0   \n",
              "1           2200              810              810                   0   \n",
              "2           2525                0                0                   0   \n",
              "3           1820              620              620                   0   \n",
              "4           2310                0                0                   0   \n",
              "\n",
              "   SqFtGarageAttached  ...  SqFtEnclosedPorch  SqFtDeck  BrickStone  Bedrooms  \\\n",
              "0                 600  ...                  0       220           0         6   \n",
              "1                   0  ...                  0       340           0         4   \n",
              "2                 400  ...                  0         0           0         4   \n",
              "3                   0  ...                  0       100           0         3   \n",
              "4                 440  ...                  0       320           0         3   \n",
              "\n",
              "   BathHalfCount  Bath3qtrCount  BathFullCount  YrBuilt   Longitude   Latitude  \n",
              "0              0              2              1     1965 -122.196399  47.336118  \n",
              "1              1              0              1     1945 -122.361913  47.509874  \n",
              "2              1              0              2     2019 -122.156684  47.437557  \n",
              "3              1              0              2     2016 -122.370252  47.565146  \n",
              "4              0              0              2     1967 -122.184194  47.730389  \n",
              "\n",
              "[5 rows x 22 columns]"
            ],
            "text/html": [
              "\n",
              "  <div id=\"df-4cd814e7-cbfc-456e-a3fc-a02beeb781c1\" class=\"colab-df-container\">\n",
              "    <div>\n",
              "<style scoped>\n",
              "    .dataframe tbody tr th:only-of-type {\n",
              "        vertical-align: middle;\n",
              "    }\n",
              "\n",
              "    .dataframe tbody tr th {\n",
              "        vertical-align: top;\n",
              "    }\n",
              "\n",
              "    .dataframe thead th {\n",
              "        text-align: right;\n",
              "    }\n",
              "</style>\n",
              "<table border=\"1\" class=\"dataframe\">\n",
              "  <thead>\n",
              "    <tr style=\"text-align: right;\">\n",
              "      <th></th>\n",
              "      <th>SalePrice</th>\n",
              "      <th>SqFt1stFloor</th>\n",
              "      <th>SqFtHalfFloor</th>\n",
              "      <th>SqFt2ndFloor</th>\n",
              "      <th>SqFtUpperFloor</th>\n",
              "      <th>SqFtTotLiving</th>\n",
              "      <th>SqFtTotBasement</th>\n",
              "      <th>SqFtFinBasement</th>\n",
              "      <th>SqFtGarageBasement</th>\n",
              "      <th>SqFtGarageAttached</th>\n",
              "      <th>...</th>\n",
              "      <th>SqFtEnclosedPorch</th>\n",
              "      <th>SqFtDeck</th>\n",
              "      <th>BrickStone</th>\n",
              "      <th>Bedrooms</th>\n",
              "      <th>BathHalfCount</th>\n",
              "      <th>Bath3qtrCount</th>\n",
              "      <th>BathFullCount</th>\n",
              "      <th>YrBuilt</th>\n",
              "      <th>Longitude</th>\n",
              "      <th>Latitude</th>\n",
              "    </tr>\n",
              "  </thead>\n",
              "  <tbody>\n",
              "    <tr>\n",
              "      <th>0</th>\n",
              "      <td>400000</td>\n",
              "      <td>1590</td>\n",
              "      <td>0</td>\n",
              "      <td>0</td>\n",
              "      <td>0</td>\n",
              "      <td>3180</td>\n",
              "      <td>1590</td>\n",
              "      <td>1590</td>\n",
              "      <td>0</td>\n",
              "      <td>600</td>\n",
              "      <td>...</td>\n",
              "      <td>0</td>\n",
              "      <td>220</td>\n",
              "      <td>0</td>\n",
              "      <td>6</td>\n",
              "      <td>0</td>\n",
              "      <td>2</td>\n",
              "      <td>1</td>\n",
              "      <td>1965</td>\n",
              "      <td>-122.196399</td>\n",
              "      <td>47.336118</td>\n",
              "    </tr>\n",
              "    <tr>\n",
              "      <th>1</th>\n",
              "      <td>474250</td>\n",
              "      <td>1390</td>\n",
              "      <td>0</td>\n",
              "      <td>0</td>\n",
              "      <td>0</td>\n",
              "      <td>2200</td>\n",
              "      <td>810</td>\n",
              "      <td>810</td>\n",
              "      <td>0</td>\n",
              "      <td>0</td>\n",
              "      <td>...</td>\n",
              "      <td>0</td>\n",
              "      <td>340</td>\n",
              "      <td>0</td>\n",
              "      <td>4</td>\n",
              "      <td>1</td>\n",
              "      <td>0</td>\n",
              "      <td>1</td>\n",
              "      <td>1945</td>\n",
              "      <td>-122.361913</td>\n",
              "      <td>47.509874</td>\n",
              "    </tr>\n",
              "    <tr>\n",
              "      <th>2</th>\n",
              "      <td>667950</td>\n",
              "      <td>1010</td>\n",
              "      <td>0</td>\n",
              "      <td>1515</td>\n",
              "      <td>0</td>\n",
              "      <td>2525</td>\n",
              "      <td>0</td>\n",
              "      <td>0</td>\n",
              "      <td>0</td>\n",
              "      <td>400</td>\n",
              "      <td>...</td>\n",
              "      <td>0</td>\n",
              "      <td>0</td>\n",
              "      <td>0</td>\n",
              "      <td>4</td>\n",
              "      <td>1</td>\n",
              "      <td>0</td>\n",
              "      <td>2</td>\n",
              "      <td>2019</td>\n",
              "      <td>-122.156684</td>\n",
              "      <td>47.437557</td>\n",
              "    </tr>\n",
              "    <tr>\n",
              "      <th>3</th>\n",
              "      <td>659000</td>\n",
              "      <td>660</td>\n",
              "      <td>0</td>\n",
              "      <td>540</td>\n",
              "      <td>0</td>\n",
              "      <td>1820</td>\n",
              "      <td>620</td>\n",
              "      <td>620</td>\n",
              "      <td>0</td>\n",
              "      <td>0</td>\n",
              "      <td>...</td>\n",
              "      <td>0</td>\n",
              "      <td>100</td>\n",
              "      <td>0</td>\n",
              "      <td>3</td>\n",
              "      <td>1</td>\n",
              "      <td>0</td>\n",
              "      <td>2</td>\n",
              "      <td>2016</td>\n",
              "      <td>-122.370252</td>\n",
              "      <td>47.565146</td>\n",
              "    </tr>\n",
              "    <tr>\n",
              "      <th>4</th>\n",
              "      <td>656500</td>\n",
              "      <td>2310</td>\n",
              "      <td>0</td>\n",
              "      <td>0</td>\n",
              "      <td>0</td>\n",
              "      <td>2310</td>\n",
              "      <td>0</td>\n",
              "      <td>0</td>\n",
              "      <td>0</td>\n",
              "      <td>440</td>\n",
              "      <td>...</td>\n",
              "      <td>0</td>\n",
              "      <td>320</td>\n",
              "      <td>0</td>\n",
              "      <td>3</td>\n",
              "      <td>0</td>\n",
              "      <td>0</td>\n",
              "      <td>2</td>\n",
              "      <td>1967</td>\n",
              "      <td>-122.184194</td>\n",
              "      <td>47.730389</td>\n",
              "    </tr>\n",
              "  </tbody>\n",
              "</table>\n",
              "<p>5 rows × 22 columns</p>\n",
              "</div>\n",
              "    <div class=\"colab-df-buttons\">\n",
              "\n",
              "  <div class=\"colab-df-container\">\n",
              "    <button class=\"colab-df-convert\" onclick=\"convertToInteractive('df-4cd814e7-cbfc-456e-a3fc-a02beeb781c1')\"\n",
              "            title=\"Convert this dataframe to an interactive table.\"\n",
              "            style=\"display:none;\">\n",
              "\n",
              "  <svg xmlns=\"http://www.w3.org/2000/svg\" height=\"24px\" viewBox=\"0 -960 960 960\">\n",
              "    <path d=\"M120-120v-720h720v720H120Zm60-500h600v-160H180v160Zm220 220h160v-160H400v160Zm0 220h160v-160H400v160ZM180-400h160v-160H180v160Zm440 0h160v-160H620v160ZM180-180h160v-160H180v160Zm440 0h160v-160H620v160Z\"/>\n",
              "  </svg>\n",
              "    </button>\n",
              "\n",
              "  <style>\n",
              "    .colab-df-container {\n",
              "      display:flex;\n",
              "      gap: 12px;\n",
              "    }\n",
              "\n",
              "    .colab-df-convert {\n",
              "      background-color: #E8F0FE;\n",
              "      border: none;\n",
              "      border-radius: 50%;\n",
              "      cursor: pointer;\n",
              "      display: none;\n",
              "      fill: #1967D2;\n",
              "      height: 32px;\n",
              "      padding: 0 0 0 0;\n",
              "      width: 32px;\n",
              "    }\n",
              "\n",
              "    .colab-df-convert:hover {\n",
              "      background-color: #E2EBFA;\n",
              "      box-shadow: 0px 1px 2px rgba(60, 64, 67, 0.3), 0px 1px 3px 1px rgba(60, 64, 67, 0.15);\n",
              "      fill: #174EA6;\n",
              "    }\n",
              "\n",
              "    .colab-df-buttons div {\n",
              "      margin-bottom: 4px;\n",
              "    }\n",
              "\n",
              "    [theme=dark] .colab-df-convert {\n",
              "      background-color: #3B4455;\n",
              "      fill: #D2E3FC;\n",
              "    }\n",
              "\n",
              "    [theme=dark] .colab-df-convert:hover {\n",
              "      background-color: #434B5C;\n",
              "      box-shadow: 0px 1px 3px 1px rgba(0, 0, 0, 0.15);\n",
              "      filter: drop-shadow(0px 1px 2px rgba(0, 0, 0, 0.3));\n",
              "      fill: #FFFFFF;\n",
              "    }\n",
              "  </style>\n",
              "\n",
              "    <script>\n",
              "      const buttonEl =\n",
              "        document.querySelector('#df-4cd814e7-cbfc-456e-a3fc-a02beeb781c1 button.colab-df-convert');\n",
              "      buttonEl.style.display =\n",
              "        google.colab.kernel.accessAllowed ? 'block' : 'none';\n",
              "\n",
              "      async function convertToInteractive(key) {\n",
              "        const element = document.querySelector('#df-4cd814e7-cbfc-456e-a3fc-a02beeb781c1');\n",
              "        const dataTable =\n",
              "          await google.colab.kernel.invokeFunction('convertToInteractive',\n",
              "                                                    [key], {});\n",
              "        if (!dataTable) return;\n",
              "\n",
              "        const docLinkHtml = 'Like what you see? Visit the ' +\n",
              "          '<a target=\"_blank\" href=https://colab.research.google.com/notebooks/data_table.ipynb>data table notebook</a>'\n",
              "          + ' to learn more about interactive tables.';\n",
              "        element.innerHTML = '';\n",
              "        dataTable['output_type'] = 'display_data';\n",
              "        await google.colab.output.renderOutput(dataTable, element);\n",
              "        const docLink = document.createElement('div');\n",
              "        docLink.innerHTML = docLinkHtml;\n",
              "        element.appendChild(docLink);\n",
              "      }\n",
              "    </script>\n",
              "  </div>\n",
              "\n",
              "\n",
              "<div id=\"df-8c43c173-9977-469e-b930-7a60d7230671\">\n",
              "  <button class=\"colab-df-quickchart\" onclick=\"quickchart('df-8c43c173-9977-469e-b930-7a60d7230671')\"\n",
              "            title=\"Suggest charts.\"\n",
              "            style=\"display:none;\">\n",
              "\n",
              "<svg xmlns=\"http://www.w3.org/2000/svg\" height=\"24px\"viewBox=\"0 0 24 24\"\n",
              "     width=\"24px\">\n",
              "    <g>\n",
              "        <path d=\"M19 3H5c-1.1 0-2 .9-2 2v14c0 1.1.9 2 2 2h14c1.1 0 2-.9 2-2V5c0-1.1-.9-2-2-2zM9 17H7v-7h2v7zm4 0h-2V7h2v10zm4 0h-2v-4h2v4z\"/>\n",
              "    </g>\n",
              "</svg>\n",
              "  </button>\n",
              "\n",
              "<style>\n",
              "  .colab-df-quickchart {\n",
              "      --bg-color: #E8F0FE;\n",
              "      --fill-color: #1967D2;\n",
              "      --hover-bg-color: #E2EBFA;\n",
              "      --hover-fill-color: #174EA6;\n",
              "      --disabled-fill-color: #AAA;\n",
              "      --disabled-bg-color: #DDD;\n",
              "  }\n",
              "\n",
              "  [theme=dark] .colab-df-quickchart {\n",
              "      --bg-color: #3B4455;\n",
              "      --fill-color: #D2E3FC;\n",
              "      --hover-bg-color: #434B5C;\n",
              "      --hover-fill-color: #FFFFFF;\n",
              "      --disabled-bg-color: #3B4455;\n",
              "      --disabled-fill-color: #666;\n",
              "  }\n",
              "\n",
              "  .colab-df-quickchart {\n",
              "    background-color: var(--bg-color);\n",
              "    border: none;\n",
              "    border-radius: 50%;\n",
              "    cursor: pointer;\n",
              "    display: none;\n",
              "    fill: var(--fill-color);\n",
              "    height: 32px;\n",
              "    padding: 0;\n",
              "    width: 32px;\n",
              "  }\n",
              "\n",
              "  .colab-df-quickchart:hover {\n",
              "    background-color: var(--hover-bg-color);\n",
              "    box-shadow: 0 1px 2px rgba(60, 64, 67, 0.3), 0 1px 3px 1px rgba(60, 64, 67, 0.15);\n",
              "    fill: var(--button-hover-fill-color);\n",
              "  }\n",
              "\n",
              "  .colab-df-quickchart-complete:disabled,\n",
              "  .colab-df-quickchart-complete:disabled:hover {\n",
              "    background-color: var(--disabled-bg-color);\n",
              "    fill: var(--disabled-fill-color);\n",
              "    box-shadow: none;\n",
              "  }\n",
              "\n",
              "  .colab-df-spinner {\n",
              "    border: 2px solid var(--fill-color);\n",
              "    border-color: transparent;\n",
              "    border-bottom-color: var(--fill-color);\n",
              "    animation:\n",
              "      spin 1s steps(1) infinite;\n",
              "  }\n",
              "\n",
              "  @keyframes spin {\n",
              "    0% {\n",
              "      border-color: transparent;\n",
              "      border-bottom-color: var(--fill-color);\n",
              "      border-left-color: var(--fill-color);\n",
              "    }\n",
              "    20% {\n",
              "      border-color: transparent;\n",
              "      border-left-color: var(--fill-color);\n",
              "      border-top-color: var(--fill-color);\n",
              "    }\n",
              "    30% {\n",
              "      border-color: transparent;\n",
              "      border-left-color: var(--fill-color);\n",
              "      border-top-color: var(--fill-color);\n",
              "      border-right-color: var(--fill-color);\n",
              "    }\n",
              "    40% {\n",
              "      border-color: transparent;\n",
              "      border-right-color: var(--fill-color);\n",
              "      border-top-color: var(--fill-color);\n",
              "    }\n",
              "    60% {\n",
              "      border-color: transparent;\n",
              "      border-right-color: var(--fill-color);\n",
              "    }\n",
              "    80% {\n",
              "      border-color: transparent;\n",
              "      border-right-color: var(--fill-color);\n",
              "      border-bottom-color: var(--fill-color);\n",
              "    }\n",
              "    90% {\n",
              "      border-color: transparent;\n",
              "      border-bottom-color: var(--fill-color);\n",
              "    }\n",
              "  }\n",
              "</style>\n",
              "\n",
              "  <script>\n",
              "    async function quickchart(key) {\n",
              "      const quickchartButtonEl =\n",
              "        document.querySelector('#' + key + ' button');\n",
              "      quickchartButtonEl.disabled = true;  // To prevent multiple clicks.\n",
              "      quickchartButtonEl.classList.add('colab-df-spinner');\n",
              "      try {\n",
              "        const charts = await google.colab.kernel.invokeFunction(\n",
              "            'suggestCharts', [key], {});\n",
              "      } catch (error) {\n",
              "        console.error('Error during call to suggestCharts:', error);\n",
              "      }\n",
              "      quickchartButtonEl.classList.remove('colab-df-spinner');\n",
              "      quickchartButtonEl.classList.add('colab-df-quickchart-complete');\n",
              "    }\n",
              "    (() => {\n",
              "      let quickchartButtonEl =\n",
              "        document.querySelector('#df-8c43c173-9977-469e-b930-7a60d7230671 button');\n",
              "      quickchartButtonEl.style.display =\n",
              "        google.colab.kernel.accessAllowed ? 'block' : 'none';\n",
              "    })();\n",
              "  </script>\n",
              "</div>\n",
              "    </div>\n",
              "  </div>\n"
            ]
          },
          "metadata": {},
          "execution_count": 258
        }
      ]
    },
    {
      "cell_type": "markdown",
      "source": [
        "## Explore the data."
      ],
      "metadata": {
        "id": "BPXSAwilIJuj"
      }
    },
    {
      "cell_type": "code",
      "source": [
        "df1.duplicated().sum()"
      ],
      "metadata": {
        "colab": {
          "base_uri": "https://localhost:8080/"
        },
        "id": "wMVKLcYOIPzC",
        "outputId": "0dfdad21-a235-4c38-9568-155fa1b5a036"
      },
      "execution_count": 259,
      "outputs": [
        {
          "output_type": "execute_result",
          "data": {
            "text/plain": [
              "29"
            ]
          },
          "metadata": {},
          "execution_count": 259
        }
      ]
    },
    {
      "cell_type": "code",
      "source": [
        "df1.isna().sum()"
      ],
      "metadata": {
        "colab": {
          "base_uri": "https://localhost:8080/"
        },
        "id": "lzYIF5sOIkq6",
        "outputId": "f8876336-594a-46d7-8e60-95ac451da905"
      },
      "execution_count": 260,
      "outputs": [
        {
          "output_type": "execute_result",
          "data": {
            "text/plain": [
              "SalePrice             0\n",
              "SqFt1stFloor          0\n",
              "SqFtHalfFloor         0\n",
              "SqFt2ndFloor          0\n",
              "SqFtUpperFloor        0\n",
              "SqFtTotLiving         0\n",
              "SqFtTotBasement       0\n",
              "SqFtFinBasement       0\n",
              "SqFtGarageBasement    0\n",
              "SqFtGarageAttached    0\n",
              "DaylightBasement      0\n",
              "SqFtOpenPorch         0\n",
              "SqFtEnclosedPorch     0\n",
              "SqFtDeck              0\n",
              "BrickStone            0\n",
              "Bedrooms              0\n",
              "BathHalfCount         0\n",
              "Bath3qtrCount         0\n",
              "BathFullCount         0\n",
              "YrBuilt               0\n",
              "Longitude             0\n",
              "Latitude              0\n",
              "dtype: int64"
            ]
          },
          "metadata": {},
          "execution_count": 260
        }
      ]
    },
    {
      "cell_type": "code",
      "source": [
        "# Display the column names, count of non-null values, and their datatypes\n",
        "df1.info()"
      ],
      "metadata": {
        "colab": {
          "base_uri": "https://localhost:8080/"
        },
        "id": "jAtIP8BDIpUJ",
        "outputId": "e0b9090e-1b15-486e-84df-19413399dad4"
      },
      "execution_count": 261,
      "outputs": [
        {
          "output_type": "stream",
          "name": "stdout",
          "text": [
            "<class 'pandas.core.frame.DataFrame'>\n",
            "RangeIndex: 4944 entries, 0 to 4943\n",
            "Data columns (total 22 columns):\n",
            " #   Column              Non-Null Count  Dtype  \n",
            "---  ------              --------------  -----  \n",
            " 0   SalePrice           4944 non-null   int64  \n",
            " 1   SqFt1stFloor        4944 non-null   int64  \n",
            " 2   SqFtHalfFloor       4944 non-null   int64  \n",
            " 3   SqFt2ndFloor        4944 non-null   int64  \n",
            " 4   SqFtUpperFloor      4944 non-null   int64  \n",
            " 5   SqFtTotLiving       4944 non-null   int64  \n",
            " 6   SqFtTotBasement     4944 non-null   int64  \n",
            " 7   SqFtFinBasement     4944 non-null   int64  \n",
            " 8   SqFtGarageBasement  4944 non-null   int64  \n",
            " 9   SqFtGarageAttached  4944 non-null   int64  \n",
            " 10  DaylightBasement    4944 non-null   int64  \n",
            " 11  SqFtOpenPorch       4944 non-null   int64  \n",
            " 12  SqFtEnclosedPorch   4944 non-null   int64  \n",
            " 13  SqFtDeck            4944 non-null   int64  \n",
            " 14  BrickStone          4944 non-null   int64  \n",
            " 15  Bedrooms            4944 non-null   int64  \n",
            " 16  BathHalfCount       4944 non-null   int64  \n",
            " 17  Bath3qtrCount       4944 non-null   int64  \n",
            " 18  BathFullCount       4944 non-null   int64  \n",
            " 19  YrBuilt             4944 non-null   int64  \n",
            " 20  Longitude           4944 non-null   float64\n",
            " 21  Latitude            4944 non-null   float64\n",
            "dtypes: float64(2), int64(20)\n",
            "memory usage: 849.9 KB\n"
          ]
        }
      ]
    },
    {
      "cell_type": "code",
      "source": [
        "# Display the total number of missing values\n",
        "print(f'There are {df1.isna().sum().sum()} missing values.')"
      ],
      "metadata": {
        "colab": {
          "base_uri": "https://localhost:8080/"
        },
        "id": "Bm6b5W1dKQw2",
        "outputId": "4c31ac6c-59b4-4324-a7e5-6d8ad5a7eb1d"
      },
      "execution_count": 262,
      "outputs": [
        {
          "output_type": "stream",
          "name": "stdout",
          "text": [
            "There are 0 missing values.\n"
          ]
        }
      ]
    },
    {
      "cell_type": "code",
      "source": [
        "# Remove duplicates\n",
        "\n",
        "df1.drop_duplicates(inplace=True)\n",
        "\n",
        "df1.duplicated().sum()"
      ],
      "metadata": {
        "id": "fjJJhDJkKyms",
        "outputId": "45eb8269-0c0b-4585-f945-ef54f278a2cd",
        "colab": {
          "base_uri": "https://localhost:8080/"
        }
      },
      "execution_count": 263,
      "outputs": [
        {
          "output_type": "execute_result",
          "data": {
            "text/plain": [
              "0"
            ]
          },
          "metadata": {},
          "execution_count": 263
        }
      ]
    },
    {
      "cell_type": "markdown",
      "source": [
        "##Prepare the data for modeling"
      ],
      "metadata": {
        "id": "Hn1vj001CQa_"
      }
    },
    {
      "cell_type": "code",
      "source": [
        "# Feature selection - Removing Longitude and Latitude for simplicity\n",
        "data = df1.drop(columns=['Longitude', 'Latitude'])"
      ],
      "metadata": {
        "id": "7MD3EaMsf8go"
      },
      "execution_count": 264,
      "outputs": []
    },
    {
      "cell_type": "code",
      "source": [
        "# Standardize the data (scaling)\n",
        "scaler = StandardScaler()\n",
        "scaled_data = scaler.fit_transform(data)"
      ],
      "metadata": {
        "id": "qSEDMvYOdFRG"
      },
      "execution_count": 265,
      "outputs": []
    },
    {
      "cell_type": "code",
      "source": [
        "# Initialize variables for storing the results\n",
        "inertia_values = []\n",
        "silhouette_scores = []"
      ],
      "metadata": {
        "id": "ERSr2aiIgBTl"
      },
      "execution_count": 266,
      "outputs": []
    },
    {
      "cell_type": "markdown",
      "source": [
        "##Use a KMeans model to cluster the houses into an optimal number of clusters"
      ],
      "metadata": {
        "id": "MtuwZRZfCgd-"
      }
    },
    {
      "cell_type": "code",
      "source": [
        "# Determine the optimal number of clusters using KMeans\n",
        "for n_clusters in range(2, 11):\n",
        "    kmeans = KMeans(n_clusters=n_clusters, random_state=0)\n",
        "    kmeans.fit(scaled_data)\n",
        "\n",
        "    # Append the sum of squared distances to inertia_values\n",
        "    inertia_values.append(kmeans.inertia_)\n",
        "\n",
        "    # Calculate silhouette score and append to silhouette_scores\n",
        "    silhouette_avg = silhouette_score(scaled_data, kmeans.labels_)\n",
        "    silhouette_scores.append(silhouette_avg)"
      ],
      "metadata": {
        "colab": {
          "base_uri": "https://localhost:8080/"
        },
        "id": "HhZ6SAF_gFZB",
        "outputId": "249a430d-7a5a-4bed-92f2-4ebbcf8dcb8c"
      },
      "execution_count": 267,
      "outputs": [
        {
          "output_type": "stream",
          "name": "stderr",
          "text": [
            "/usr/local/lib/python3.10/dist-packages/sklearn/cluster/_kmeans.py:870: FutureWarning: The default value of `n_init` will change from 10 to 'auto' in 1.4. Set the value of `n_init` explicitly to suppress the warning\n",
            "  warnings.warn(\n",
            "/usr/local/lib/python3.10/dist-packages/sklearn/cluster/_kmeans.py:870: FutureWarning: The default value of `n_init` will change from 10 to 'auto' in 1.4. Set the value of `n_init` explicitly to suppress the warning\n",
            "  warnings.warn(\n",
            "/usr/local/lib/python3.10/dist-packages/sklearn/cluster/_kmeans.py:870: FutureWarning: The default value of `n_init` will change from 10 to 'auto' in 1.4. Set the value of `n_init` explicitly to suppress the warning\n",
            "  warnings.warn(\n",
            "/usr/local/lib/python3.10/dist-packages/sklearn/cluster/_kmeans.py:870: FutureWarning: The default value of `n_init` will change from 10 to 'auto' in 1.4. Set the value of `n_init` explicitly to suppress the warning\n",
            "  warnings.warn(\n",
            "/usr/local/lib/python3.10/dist-packages/sklearn/cluster/_kmeans.py:870: FutureWarning: The default value of `n_init` will change from 10 to 'auto' in 1.4. Set the value of `n_init` explicitly to suppress the warning\n",
            "  warnings.warn(\n",
            "/usr/local/lib/python3.10/dist-packages/sklearn/cluster/_kmeans.py:870: FutureWarning: The default value of `n_init` will change from 10 to 'auto' in 1.4. Set the value of `n_init` explicitly to suppress the warning\n",
            "  warnings.warn(\n",
            "/usr/local/lib/python3.10/dist-packages/sklearn/cluster/_kmeans.py:870: FutureWarning: The default value of `n_init` will change from 10 to 'auto' in 1.4. Set the value of `n_init` explicitly to suppress the warning\n",
            "  warnings.warn(\n",
            "/usr/local/lib/python3.10/dist-packages/sklearn/cluster/_kmeans.py:870: FutureWarning: The default value of `n_init` will change from 10 to 'auto' in 1.4. Set the value of `n_init` explicitly to suppress the warning\n",
            "  warnings.warn(\n",
            "/usr/local/lib/python3.10/dist-packages/sklearn/cluster/_kmeans.py:870: FutureWarning: The default value of `n_init` will change from 10 to 'auto' in 1.4. Set the value of `n_init` explicitly to suppress the warning\n",
            "  warnings.warn(\n"
          ]
        }
      ]
    },
    {
      "cell_type": "markdown",
      "source": [
        "###Elbow plot"
      ],
      "metadata": {
        "id": "Ufmq-LteCkt1"
      }
    },
    {
      "cell_type": "code",
      "source": [
        "# Create an elbow plot to visualize inertia values\n",
        "plt.figure(figsize=(10, 5))\n",
        "plt.plot(range(2, 11), inertia_values, marker='o', linestyle='-', color='b')\n",
        "plt.title('Elbow Method for Optimal Number of Clusters')\n",
        "plt.xlabel('Number of Clusters')\n",
        "plt.ylabel('Inertia')\n",
        "plt.grid(True)\n",
        "plt.show()"
      ],
      "metadata": {
        "colab": {
          "base_uri": "https://localhost:8080/",
          "height": 487
        },
        "id": "t46v_kHEgRNB",
        "outputId": "e9c2ba45-f82f-49e9-d2da-0080cc20af88"
      },
      "execution_count": 268,
      "outputs": [
        {
          "output_type": "display_data",
          "data": {
            "text/plain": [
              "<Figure size 1000x500 with 1 Axes>"
            ],
            "image/png": "[encoded data removed]"
          },
          "metadata": {}
        }
      ]
    },
    {
      "cell_type": "markdown",
      "source": [
        "###Silhouette Score Plot"
      ],
      "metadata": {
        "id": "rMeEhF7MCo4r"
      }
    },
    {
      "cell_type": "code",
      "source": [
        "# Create a silhouette score plot\n",
        "plt.figure(figsize=(10, 5))\n",
        "plt.plot(range(2, 11), silhouette_scores, marker='o', linestyle='-', color='g')\n",
        "plt.title('Silhouette Score for Optimal Number of Clusters')\n",
        "plt.xlabel('Number of Clusters')\n",
        "plt.ylabel('Silhouette Score')\n",
        "plt.grid(True)\n",
        "plt.show()"
      ],
      "metadata": {
        "colab": {
          "base_uri": "https://localhost:8080/",
          "height": 487
        },
        "id": "P98-GfxmgUd9",
        "outputId": "a8f993b4-1b39-4fa4-b77f-6230706f3ffb"
      },
      "execution_count": 269,
      "outputs": [
        {
          "output_type": "display_data",
          "data": {
            "text/plain": [
              "<Figure size 1000x500 with 1 Axes>"
            ],
            "image/png": "[encoded data removed]"
          },
          "metadata": {}
        }
      ]
    },
    {
      "cell_type": "markdown",
      "source": [
        "We have a couple of choices of clusters numbers here. The best silhouette score is 8. The elbows in the inertia plot seem to be at 4 and 5. I'm going to choose to use 8 clusters."
      ],
      "metadata": {
        "id": "wDavJ3qvo_aC"
      }
    },
    {
      "cell_type": "markdown",
      "source": [
        "Given these considerations, choosing 8 clusters is a reasonable decision, especially if it aligns with the goals of your analysis and provides well-separated and distinct clusters according to the silhouette score."
      ],
      "metadata": {
        "id": "LxLCyDyHp4s5"
      }
    },
    {
      "cell_type": "code",
      "source": [
        "# Fit K-Means with 8 clusters\n",
        "kmeans = KMeans(n_clusters=8, random_state=0)\n",
        "df1['Cluster'] = kmeans.fit_predict(scaled_data)\n",
        "\n",
        "# Calculate mean values for each cluster\n",
        "cluster_means = df1.groupby('Cluster').mean()\n",
        "print(cluster_means)\n"
      ],
      "metadata": {
        "colab": {
          "base_uri": "https://localhost:8080/"
        },
        "id": "TTt5V9P_pmhi",
        "outputId": "1aaa3328-8fe8-45c4-f9b7-020e7f4499e2"
      },
      "execution_count": 270,
      "outputs": [
        {
          "output_type": "stream",
          "name": "stderr",
          "text": [
            "/usr/local/lib/python3.10/dist-packages/sklearn/cluster/_kmeans.py:870: FutureWarning: The default value of `n_init` will change from 10 to 'auto' in 1.4. Set the value of `n_init` explicitly to suppress the warning\n",
            "  warnings.warn(\n"
          ]
        },
        {
          "output_type": "stream",
          "name": "stdout",
          "text": [
            "             SalePrice  SqFt1stFloor  SqFtHalfFloor  SqFt2ndFloor  \\\n",
            "Cluster                                                             \n",
            "0        609541.247552   1372.593007       1.762238     73.829371   \n",
            "1        503265.293567   1219.589007      19.592755     77.657714   \n",
            "2        860068.153619   1359.033973       7.234860   1434.410635   \n",
            "3        724692.389105    527.015564      17.832685    544.661479   \n",
            "4        694611.245734    589.982935       2.013652    546.424915   \n",
            "5        799863.346870   1472.615905       6.226734    109.164129   \n",
            "6        760840.920530   1140.675497     621.437086     55.827815   \n",
            "7        788378.440860   1318.225806     111.505376     96.182796   \n",
            "\n",
            "         SqFtUpperFloor  SqFtTotLiving  SqFtTotBasement  SqFtFinBasement  \\\n",
            "Cluster                                                                    \n",
            "0              0.000000    2051.387413      1169.148252       603.202797   \n",
            "1              0.000000    1382.754528       275.415365        68.819488   \n",
            "2              3.515510    2936.511078       197.652880       134.706056   \n",
            "3            490.731518    1617.715953       101.906615        49.143969   \n",
            "4              1.723549    1510.605802       506.829352       370.460751   \n",
            "5              0.000000    2622.984772      1305.248731      1034.978003   \n",
            "6              0.000000    2047.377483       776.953642       239.039735   \n",
            "7              4.623656    2067.473118      1034.946237       538.709677   \n",
            "\n",
            "         SqFtGarageBasement  SqFtGarageAttached  ...  SqFtEnclosedPorch  \\\n",
            "Cluster                                          ...                      \n",
            "0                431.820979           55.413986  ...           3.025175   \n",
            "1                 17.607745          179.348532  ...           6.870706   \n",
            "2                 27.663220          477.679468  ...           4.756278   \n",
            "3                 47.937743           21.821012  ...          16.692607   \n",
            "4                123.037543            8.959044  ...          16.587031   \n",
            "5                 36.480541          239.925550  ...           8.087986   \n",
            "6                 55.827815           69.384106  ...          14.801325   \n",
            "7                131.505376           86.666667  ...           4.516129   \n",
            "\n",
            "           SqFtDeck  BrickStone  Bedrooms  BathHalfCount  Bath3qtrCount  \\\n",
            "Cluster                                                                   \n",
            "0        160.847552    1.471329  3.544056       0.481119       0.889510   \n",
            "1         65.973766    0.856340  2.929419       0.189881       0.293567   \n",
            "2         91.672083    0.258493  4.197932       0.677991       0.607090   \n",
            "3        296.459144    0.778210  2.754864       0.466926       0.762646   \n",
            "4        300.558020    0.025597  2.767918       0.549488       0.970990   \n",
            "5        253.913706    2.003384  4.170897       0.319797       0.991540   \n",
            "6         93.947020    1.228477  3.798013       0.347682       0.390728   \n",
            "7         91.182796   93.892473  3.236559       0.338710       0.521505   \n",
            "\n",
            "         BathFullCount      YrBuilt   Longitude   Latitude  \n",
            "Cluster                                                     \n",
            "0             1.229371  1970.055944 -122.250170  47.576078  \n",
            "1             1.082448  1950.607745 -122.275115  47.546754  \n",
            "2             2.057607  2004.595273 -122.201820  47.541762  \n",
            "3             1.295720  2016.723735 -122.341158  47.622959  \n",
            "4             1.211604  2013.848123 -122.323816  47.614761  \n",
            "5             1.423012  1961.737733 -122.251235  47.576478  \n",
            "6             1.261589  1931.718543 -122.314722  47.610781  \n",
            "7             1.177419  1947.112903 -122.312399  47.609514  \n",
            "\n",
            "[8 rows x 22 columns]\n"
          ]
        }
      ]
    },
    {
      "cell_type": "markdown",
      "source": [
        "##Analyze and report on the clusters"
      ],
      "metadata": {
        "id": "IgAXfL7IC-zH"
      }
    },
    {
      "cell_type": "markdown",
      "source": [
        "###Visualization 1: Average Sale Price by Cluster"
      ],
      "metadata": {
        "id": "rK08vLnbqOCc"
      }
    },
    {
      "cell_type": "code",
      "source": [
        "import seaborn as sns\n",
        "\n",
        "# Create a bar plot to show the average sale price by cluster\n",
        "plt.figure(figsize=(10, 6))\n",
        "sns.barplot(x=cluster_means.index, y=cluster_means['SalePrice'], palette='viridis')\n",
        "plt.title('Average Sale Price by Cluster')\n",
        "plt.xlabel('Cluster')\n",
        "plt.ylabel('Average Sale Price')\n",
        "plt.xticks(range(8), labels=['Cluster 0', 'Cluster 1', 'Cluster 2', 'Cluster 3', 'Cluster 4', 'Cluster 5', 'Cluster 6', 'Cluster 7'], rotation=45)\n",
        "plt.show()\n"
      ],
      "metadata": {
        "colab": {
          "base_uri": "https://localhost:8080/",
          "height": 604
        },
        "id": "MRSEJut_qMKu",
        "outputId": "c3fee1c0-5ed5-46a0-d5bf-219a988454f9"
      },
      "execution_count": 271,
      "outputs": [
        {
          "output_type": "display_data",
          "data": {
            "text/plain": [
              "<Figure size 1000x600 with 1 Axes>"
            ],
            "image/png": "[encoded data removed]"
          },
          "metadata": {}
        }
      ]
    },
    {
      "cell_type": "markdown",
      "source": [
        "Interpretation (Visualization 1):\n",
        "This bar plot shows the average sale price for each cluster. Clusters with higher average sale prices represent more expensive properties, while clusters with lower average sale prices represent less expensive properties. This visualization helps identify the clusters with varying property values. Cluster 2 has the highest average sale price and cluster 1 has the lowest average sale price."
      ],
      "metadata": {
        "id": "9Ytu-vjhqYYw"
      }
    },
    {
      "cell_type": "markdown",
      "source": [
        "###Visualization 2: Bedroom and Bathroom Distribution by Cluster"
      ],
      "metadata": {
        "id": "syTYa9HwqpC-"
      }
    },
    {
      "cell_type": "code",
      "source": [
        "# Create a scatterplot to visualize the distribution of bedrooms and bathrooms by cluster\n",
        "plt.figure(figsize=(10, 6))\n",
        "sns.scatterplot(x=df1['Bedrooms'], y=df1['BathFullCount'], hue=df1['Cluster'], palette='Set1', s=100)\n",
        "plt.title('Bedroom and Bathroom Distribution by Cluster')\n",
        "plt.xlabel('Number of Bedrooms')\n",
        "plt.ylabel('Number of Full Bathrooms')\n",
        "plt.legend(title='Cluster', bbox_to_anchor=(1.05, 1), loc='upper left')\n",
        "plt.show()\n"
      ],
      "metadata": {
        "colab": {
          "base_uri": "https://localhost:8080/",
          "height": 564
        },
        "id": "O-PDcTKUqnu6",
        "outputId": "f5f804b8-cb04-4bec-af45-f5d2222dad55"
      },
      "execution_count": 272,
      "outputs": [
        {
          "output_type": "display_data",
          "data": {
            "text/plain": [
              "<Figure size 1000x600 with 1 Axes>"
            ],
            "image/png": "[encoded data removed]"
          },
          "metadata": {}
        }
      ]
    },
    {
      "cell_type": "markdown",
      "source": [
        "Interpretation (Visualization 2):\n",
        "This scatterplot displays the distribution of properties based on the number of bedrooms and full bathrooms. Each point represents a property, and the colour indicates its cluster assignment. By visualizing the distribution of bedrooms and bathrooms, you can identify clusters with different property sizes and layouts."
      ],
      "metadata": {
        "id": "GjxH9tyLtVch"
      }
    },
    {
      "cell_type": "markdown",
      "source": [
        "#Part 2: Modeling"
      ],
      "metadata": {
        "id": "zBT1PCcnt9IU"
      }
    },
    {
      "cell_type": "markdown",
      "source": [
        "##Imports"
      ],
      "metadata": {
        "id": "xTVHy2MFBOs0"
      }
    },
    {
      "cell_type": "code",
      "source": [
        "import pandas as pd\n",
        "import numpy as np\n",
        "import matplotlib.pyplot as plt\n",
        "import seaborn as sns\n",
        "\n",
        "\n",
        "from sklearn.preprocessing import StandardScaler\n",
        "from sklearn.model_selection import train_test_split\n",
        "from sklearn.metrics import silhouette_score, classification_report, confusion_matrix\n",
        "from sklearn.cluster import KMeans\n",
        "from sklearn.decomposition import PCA\n",
        "from keras.regularizers import l2\n",
        "from sklearn.metrics import mean_absolute_error, mean_squared_error, r2_score\n",
        "from keras.models import Sequential\n",
        "from keras.layers import Dense\n",
        "\n"
      ],
      "metadata": {
        "id": "UebpnRd9hQT6"
      },
      "execution_count": 273,
      "outputs": []
    },
    {
      "cell_type": "markdown",
      "source": [
        "##Load the dataset"
      ],
      "metadata": {
        "id": "WIi8gdCLzp1X"
      }
    },
    {
      "cell_type": "code",
      "source": [
        "df2 = pd.read_csv('https://docs.google.com/spreadsheets/d/e/2PACX-1vTTbFcxpd0Y_y-5pNAhwj5ZRcm9tekchwBtwgP5qm-A3jXSKM2KtMHnmVVxOiP1eccSxz02CU1mrhRy/pub?output=csv')\n",
        "df2.head()"
      ],
      "metadata": {
        "colab": {
          "base_uri": "https://localhost:8080/",
          "height": 256
        },
        "id": "-levPyLit-iu",
        "outputId": "e92afb48-cb5e-4cdd-c0a9-7758987b2b73"
      },
      "execution_count": 274,
      "outputs": [
        {
          "output_type": "execute_result",
          "data": {
            "text/plain": [
              "   SalePrice  SqFt1stFloor  SqFtHalfFloor  SqFt2ndFloor  SqFtUpperFloor  \\\n",
              "0     400000          1590              0             0               0   \n",
              "1     474250          1390              0             0               0   \n",
              "2     667950          1010              0          1515               0   \n",
              "3     659000           660              0           540               0   \n",
              "4     656500          2310              0             0               0   \n",
              "\n",
              "   SqFtTotLiving  SqFtTotBasement  SqFtFinBasement  SqFtGarageBasement  \\\n",
              "0           3180             1590             1590                   0   \n",
              "1           2200              810              810                   0   \n",
              "2           2525                0                0                   0   \n",
              "3           1820              620              620                   0   \n",
              "4           2310                0                0                   0   \n",
              "\n",
              "   SqFtGarageAttached  ...  MonthSold_07  MonthSold_08  MonthSold_09  \\\n",
              "0                 600  ...             0             0             0   \n",
              "1                   0  ...             0             0             0   \n",
              "2                 400  ...             0             0             0   \n",
              "3                   0  ...             0             0             1   \n",
              "4                 440  ...             0             0             0   \n",
              "\n",
              "   MonthSold_10  MonthSold_11  MonthSold_12  YearSold_2017  YearSold_2018  \\\n",
              "0             0             0             0              1              0   \n",
              "1             0             0             0              0              1   \n",
              "2             0             0             0              0              0   \n",
              "3             0             0             0              1              0   \n",
              "4             1             0             0              1              0   \n",
              "\n",
              "   YearSold_2019  YearSold_2020  \n",
              "0              0              0  \n",
              "1              0              0  \n",
              "2              1              0  \n",
              "3              0              0  \n",
              "4              0              0  \n",
              "\n",
              "[5 rows x 171 columns]"
            ],
            "text/html": [
              "\n",
              "  <div id=\"df-da0f0538-331b-4eb4-a171-62c33ec049e7\" class=\"colab-df-container\">\n",
              "    <div>\n",
              "<style scoped>\n",
              "    .dataframe tbody tr th:only-of-type {\n",
              "        vertical-align: middle;\n",
              "    }\n",
              "\n",
              "    .dataframe tbody tr th {\n",
              "        vertical-align: top;\n",
              "    }\n",
              "\n",
              "    .dataframe thead th {\n",
              "        text-align: right;\n",
              "    }\n",
              "</style>\n",
              "<table border=\"1\" class=\"dataframe\">\n",
              "  <thead>\n",
              "    <tr style=\"text-align: right;\">\n",
              "      <th></th>\n",
              "      <th>SalePrice</th>\n",
              "      <th>SqFt1stFloor</th>\n",
              "      <th>SqFtHalfFloor</th>\n",
              "      <th>SqFt2ndFloor</th>\n",
              "      <th>SqFtUpperFloor</th>\n",
              "      <th>SqFtTotLiving</th>\n",
              "      <th>SqFtTotBasement</th>\n",
              "      <th>SqFtFinBasement</th>\n",
              "      <th>SqFtGarageBasement</th>\n",
              "      <th>SqFtGarageAttached</th>\n",
              "      <th>...</th>\n",
              "      <th>MonthSold_07</th>\n",
              "      <th>MonthSold_08</th>\n",
              "      <th>MonthSold_09</th>\n",
              "      <th>MonthSold_10</th>\n",
              "      <th>MonthSold_11</th>\n",
              "      <th>MonthSold_12</th>\n",
              "      <th>YearSold_2017</th>\n",
              "      <th>YearSold_2018</th>\n",
              "      <th>YearSold_2019</th>\n",
              "      <th>YearSold_2020</th>\n",
              "    </tr>\n",
              "  </thead>\n",
              "  <tbody>\n",
              "    <tr>\n",
              "      <th>0</th>\n",
              "      <td>400000</td>\n",
              "      <td>1590</td>\n",
              "      <td>0</td>\n",
              "      <td>0</td>\n",
              "      <td>0</td>\n",
              "      <td>3180</td>\n",
              "      <td>1590</td>\n",
              "      <td>1590</td>\n",
              "      <td>0</td>\n",
              "      <td>600</td>\n",
              "      <td>...</td>\n",
              "      <td>0</td>\n",
              "      <td>0</td>\n",
              "      <td>0</td>\n",
              "      <td>0</td>\n",
              "      <td>0</td>\n",
              "      <td>0</td>\n",
              "      <td>1</td>\n",
              "      <td>0</td>\n",
              "      <td>0</td>\n",
              "      <td>0</td>\n",
              "    </tr>\n",
              "    <tr>\n",
              "      <th>1</th>\n",
              "      <td>474250</td>\n",
              "      <td>1390</td>\n",
              "      <td>0</td>\n",
              "      <td>0</td>\n",
              "      <td>0</td>\n",
              "      <td>2200</td>\n",
              "      <td>810</td>\n",
              "      <td>810</td>\n",
              "      <td>0</td>\n",
              "      <td>0</td>\n",
              "      <td>...</td>\n",
              "      <td>0</td>\n",
              "      <td>0</td>\n",
              "      <td>0</td>\n",
              "      <td>0</td>\n",
              "      <td>0</td>\n",
              "      <td>0</td>\n",
              "      <td>0</td>\n",
              "      <td>1</td>\n",
              "      <td>0</td>\n",
              "      <td>0</td>\n",
              "    </tr>\n",
              "    <tr>\n",
              "      <th>2</th>\n",
              "      <td>667950</td>\n",
              "      <td>1010</td>\n",
              "      <td>0</td>\n",
              "      <td>1515</td>\n",
              "      <td>0</td>\n",
              "      <td>2525</td>\n",
              "      <td>0</td>\n",
              "      <td>0</td>\n",
              "      <td>0</td>\n",
              "      <td>400</td>\n",
              "      <td>...</td>\n",
              "      <td>0</td>\n",
              "      <td>0</td>\n",
              "      <td>0</td>\n",
              "      <td>0</td>\n",
              "      <td>0</td>\n",
              "      <td>0</td>\n",
              "      <td>0</td>\n",
              "      <td>0</td>\n",
              "      <td>1</td>\n",
              "      <td>0</td>\n",
              "    </tr>\n",
              "    <tr>\n",
              "      <th>3</th>\n",
              "      <td>659000</td>\n",
              "      <td>660</td>\n",
              "      <td>0</td>\n",
              "      <td>540</td>\n",
              "      <td>0</td>\n",
              "      <td>1820</td>\n",
              "      <td>620</td>\n",
              "      <td>620</td>\n",
              "      <td>0</td>\n",
              "      <td>0</td>\n",
              "      <td>...</td>\n",
              "      <td>0</td>\n",
              "      <td>0</td>\n",
              "      <td>1</td>\n",
              "      <td>0</td>\n",
              "      <td>0</td>\n",
              "      <td>0</td>\n",
              "      <td>1</td>\n",
              "      <td>0</td>\n",
              "      <td>0</td>\n",
              "      <td>0</td>\n",
              "    </tr>\n",
              "    <tr>\n",
              "      <th>4</th>\n",
              "      <td>656500</td>\n",
              "      <td>2310</td>\n",
              "      <td>0</td>\n",
              "      <td>0</td>\n",
              "      <td>0</td>\n",
              "      <td>2310</td>\n",
              "      <td>0</td>\n",
              "      <td>0</td>\n",
              "      <td>0</td>\n",
              "      <td>440</td>\n",
              "      <td>...</td>\n",
              "      <td>0</td>\n",
              "      <td>0</td>\n",
              "      <td>0</td>\n",
              "      <td>1</td>\n",
              "      <td>0</td>\n",
              "      <td>0</td>\n",
              "      <td>1</td>\n",
              "      <td>0</td>\n",
              "      <td>0</td>\n",
              "      <td>0</td>\n",
              "    </tr>\n",
              "  </tbody>\n",
              "</table>\n",
              "<p>5 rows × 171 columns</p>\n",
              "</div>\n",
              "    <div class=\"colab-df-buttons\">\n",
              "\n",
              "  <div class=\"colab-df-container\">\n",
              "    <button class=\"colab-df-convert\" onclick=\"convertToInteractive('df-da0f0538-331b-4eb4-a171-62c33ec049e7')\"\n",
              "            title=\"Convert this dataframe to an interactive table.\"\n",
              "            style=\"display:none;\">\n",
              "\n",
              "  <svg xmlns=\"http://www.w3.org/2000/svg\" height=\"24px\" viewBox=\"0 -960 960 960\">\n",
              "    <path d=\"M120-120v-720h720v720H120Zm60-500h600v-160H180v160Zm220 220h160v-160H400v160Zm0 220h160v-160H400v160ZM180-400h160v-160H180v160Zm440 0h160v-160H620v160ZM180-180h160v-160H180v160Zm440 0h160v-160H620v160Z\"/>\n",
              "  </svg>\n",
              "    </button>\n",
              "\n",
              "  <style>\n",
              "    .colab-df-container {\n",
              "      display:flex;\n",
              "      gap: 12px;\n",
              "    }\n",
              "\n",
              "    .colab-df-convert {\n",
              "      background-color: #E8F0FE;\n",
              "      border: none;\n",
              "      border-radius: 50%;\n",
              "      cursor: pointer;\n",
              "      display: none;\n",
              "      fill: #1967D2;\n",
              "      height: 32px;\n",
              "      padding: 0 0 0 0;\n",
              "      width: 32px;\n",
              "    }\n",
              "\n",
              "    .colab-df-convert:hover {\n",
              "      background-color: #E2EBFA;\n",
              "      box-shadow: 0px 1px 2px rgba(60, 64, 67, 0.3), 0px 1px 3px 1px rgba(60, 64, 67, 0.15);\n",
              "      fill: #174EA6;\n",
              "    }\n",
              "\n",
              "    .colab-df-buttons div {\n",
              "      margin-bottom: 4px;\n",
              "    }\n",
              "\n",
              "    [theme=dark] .colab-df-convert {\n",
              "      background-color: #3B4455;\n",
              "      fill: #D2E3FC;\n",
              "    }\n",
              "\n",
              "    [theme=dark] .colab-df-convert:hover {\n",
              "      background-color: #434B5C;\n",
              "      box-shadow: 0px 1px 3px 1px rgba(0, 0, 0, 0.15);\n",
              "      filter: drop-shadow(0px 1px 2px rgba(0, 0, 0, 0.3));\n",
              "      fill: #FFFFFF;\n",
              "    }\n",
              "  </style>\n",
              "\n",
              "    <script>\n",
              "      const buttonEl =\n",
              "        document.querySelector('#df-da0f0538-331b-4eb4-a171-62c33ec049e7 button.colab-df-convert');\n",
              "      buttonEl.style.display =\n",
              "        google.colab.kernel.accessAllowed ? 'block' : 'none';\n",
              "\n",
              "      async function convertToInteractive(key) {\n",
              "        const element = document.querySelector('#df-da0f0538-331b-4eb4-a171-62c33ec049e7');\n",
              "        const dataTable =\n",
              "          await google.colab.kernel.invokeFunction('convertToInteractive',\n",
              "                                                    [key], {});\n",
              "        if (!dataTable) return;\n",
              "\n",
              "        const docLinkHtml = 'Like what you see? Visit the ' +\n",
              "          '<a target=\"_blank\" href=https://colab.research.google.com/notebooks/data_table.ipynb>data table notebook</a>'\n",
              "          + ' to learn more about interactive tables.';\n",
              "        element.innerHTML = '';\n",
              "        dataTable['output_type'] = 'display_data';\n",
              "        await google.colab.output.renderOutput(dataTable, element);\n",
              "        const docLink = document.createElement('div');\n",
              "        docLink.innerHTML = docLinkHtml;\n",
              "        element.appendChild(docLink);\n",
              "      }\n",
              "    </script>\n",
              "  </div>\n",
              "\n",
              "\n",
              "<div id=\"df-06b6d3e1-2383-49c5-af62-f79dee5cda3a\">\n",
              "  <button class=\"colab-df-quickchart\" onclick=\"quickchart('df-06b6d3e1-2383-49c5-af62-f79dee5cda3a')\"\n",
              "            title=\"Suggest charts.\"\n",
              "            style=\"display:none;\">\n",
              "\n",
              "<svg xmlns=\"http://www.w3.org/2000/svg\" height=\"24px\"viewBox=\"0 0 24 24\"\n",
              "     width=\"24px\">\n",
              "    <g>\n",
              "        <path d=\"M19 3H5c-1.1 0-2 .9-2 2v14c0 1.1.9 2 2 2h14c1.1 0 2-.9 2-2V5c0-1.1-.9-2-2-2zM9 17H7v-7h2v7zm4 0h-2V7h2v10zm4 0h-2v-4h2v4z\"/>\n",
              "    </g>\n",
              "</svg>\n",
              "  </button>\n",
              "\n",
              "<style>\n",
              "  .colab-df-quickchart {\n",
              "      --bg-color: #E8F0FE;\n",
              "      --fill-color: #1967D2;\n",
              "      --hover-bg-color: #E2EBFA;\n",
              "      --hover-fill-color: #174EA6;\n",
              "      --disabled-fill-color: #AAA;\n",
              "      --disabled-bg-color: #DDD;\n",
              "  }\n",
              "\n",
              "  [theme=dark] .colab-df-quickchart {\n",
              "      --bg-color: #3B4455;\n",
              "      --fill-color: #D2E3FC;\n",
              "      --hover-bg-color: #434B5C;\n",
              "      --hover-fill-color: #FFFFFF;\n",
              "      --disabled-bg-color: #3B4455;\n",
              "      --disabled-fill-color: #666;\n",
              "  }\n",
              "\n",
              "  .colab-df-quickchart {\n",
              "    background-color: var(--bg-color);\n",
              "    border: none;\n",
              "    border-radius: 50%;\n",
              "    cursor: pointer;\n",
              "    display: none;\n",
              "    fill: var(--fill-color);\n",
              "    height: 32px;\n",
              "    padding: 0;\n",
              "    width: 32px;\n",
              "  }\n",
              "\n",
              "  .colab-df-quickchart:hover {\n",
              "    background-color: var(--hover-bg-color);\n",
              "    box-shadow: 0 1px 2px rgba(60, 64, 67, 0.3), 0 1px 3px 1px rgba(60, 64, 67, 0.15);\n",
              "    fill: var(--button-hover-fill-color);\n",
              "  }\n",
              "\n",
              "  .colab-df-quickchart-complete:disabled,\n",
              "  .colab-df-quickchart-complete:disabled:hover {\n",
              "    background-color: var(--disabled-bg-color);\n",
              "    fill: var(--disabled-fill-color);\n",
              "    box-shadow: none;\n",
              "  }\n",
              "\n",
              "  .colab-df-spinner {\n",
              "    border: 2px solid var(--fill-color);\n",
              "    border-color: transparent;\n",
              "    border-bottom-color: var(--fill-color);\n",
              "    animation:\n",
              "      spin 1s steps(1) infinite;\n",
              "  }\n",
              "\n",
              "  @keyframes spin {\n",
              "    0% {\n",
              "      border-color: transparent;\n",
              "      border-bottom-color: var(--fill-color);\n",
              "      border-left-color: var(--fill-color);\n",
              "    }\n",
              "    20% {\n",
              "      border-color: transparent;\n",
              "      border-left-color: var(--fill-color);\n",
              "      border-top-color: var(--fill-color);\n",
              "    }\n",
              "    30% {\n",
              "      border-color: transparent;\n",
              "      border-left-color: var(--fill-color);\n",
              "      border-top-color: var(--fill-color);\n",
              "      border-right-color: var(--fill-color);\n",
              "    }\n",
              "    40% {\n",
              "      border-color: transparent;\n",
              "      border-right-color: var(--fill-color);\n",
              "      border-top-color: var(--fill-color);\n",
              "    }\n",
              "    60% {\n",
              "      border-color: transparent;\n",
              "      border-right-color: var(--fill-color);\n",
              "    }\n",
              "    80% {\n",
              "      border-color: transparent;\n",
              "      border-right-color: var(--fill-color);\n",
              "      border-bottom-color: var(--fill-color);\n",
              "    }\n",
              "    90% {\n",
              "      border-color: transparent;\n",
              "      border-bottom-color: var(--fill-color);\n",
              "    }\n",
              "  }\n",
              "</style>\n",
              "\n",
              "  <script>\n",
              "    async function quickchart(key) {\n",
              "      const quickchartButtonEl =\n",
              "        document.querySelector('#' + key + ' button');\n",
              "      quickchartButtonEl.disabled = true;  // To prevent multiple clicks.\n",
              "      quickchartButtonEl.classList.add('colab-df-spinner');\n",
              "      try {\n",
              "        const charts = await google.colab.kernel.invokeFunction(\n",
              "            'suggestCharts', [key], {});\n",
              "      } catch (error) {\n",
              "        console.error('Error during call to suggestCharts:', error);\n",
              "      }\n",
              "      quickchartButtonEl.classList.remove('colab-df-spinner');\n",
              "      quickchartButtonEl.classList.add('colab-df-quickchart-complete');\n",
              "    }\n",
              "    (() => {\n",
              "      let quickchartButtonEl =\n",
              "        document.querySelector('#df-06b6d3e1-2383-49c5-af62-f79dee5cda3a button');\n",
              "      quickchartButtonEl.style.display =\n",
              "        google.colab.kernel.accessAllowed ? 'block' : 'none';\n",
              "    })();\n",
              "  </script>\n",
              "</div>\n",
              "    </div>\n",
              "  </div>\n"
            ]
          },
          "metadata": {},
          "execution_count": 274
        }
      ]
    },
    {
      "cell_type": "code",
      "source": [
        "df2.info()"
      ],
      "metadata": {
        "colab": {
          "base_uri": "https://localhost:8080/"
        },
        "id": "ZMmj7KMMz0Vi",
        "outputId": "10453769-49b2-4fb9-db6c-963fd00de742"
      },
      "execution_count": 275,
      "outputs": [
        {
          "output_type": "stream",
          "name": "stdout",
          "text": [
            "<class 'pandas.core.frame.DataFrame'>\n",
            "RangeIndex: 4937 entries, 0 to 4936\n",
            "Columns: 171 entries, SalePrice to YearSold_2020\n",
            "dtypes: float64(2), int64(169)\n",
            "memory usage: 6.4 MB\n"
          ]
        }
      ]
    },
    {
      "cell_type": "code",
      "source": [
        "df2.duplicated().sum()"
      ],
      "metadata": {
        "colab": {
          "base_uri": "https://localhost:8080/"
        },
        "id": "n1In1bsJ0CwP",
        "outputId": "df1234ac-8003-494d-d423-082aff93c4ec"
      },
      "execution_count": 276,
      "outputs": [
        {
          "output_type": "execute_result",
          "data": {
            "text/plain": [
              "0"
            ]
          },
          "metadata": {},
          "execution_count": 276
        }
      ]
    },
    {
      "cell_type": "code",
      "source": [
        "df2.isna().sum()"
      ],
      "metadata": {
        "colab": {
          "base_uri": "https://localhost:8080/"
        },
        "id": "RnztLVss0S6b",
        "outputId": "e6936e4e-8fd7-4d1c-c396-80ed0d28581f"
      },
      "execution_count": 277,
      "outputs": [
        {
          "output_type": "execute_result",
          "data": {
            "text/plain": [
              "SalePrice         0\n",
              "SqFt1stFloor      0\n",
              "SqFtHalfFloor     0\n",
              "SqFt2ndFloor      0\n",
              "SqFtUpperFloor    0\n",
              "                 ..\n",
              "MonthSold_12      0\n",
              "YearSold_2017     0\n",
              "YearSold_2018     0\n",
              "YearSold_2019     0\n",
              "YearSold_2020     0\n",
              "Length: 171, dtype: int64"
            ]
          },
          "metadata": {},
          "execution_count": 277
        }
      ]
    },
    {
      "cell_type": "markdown",
      "source": [
        "## Clustering\n",
        "\n",
        "## Prepare the dataset for modeling"
      ],
      "metadata": {
        "id": "261jL84fkyfR"
      }
    },
    {
      "cell_type": "code",
      "source": [
        "#Scale the data\n",
        "df2_scaled = StandardScaler().fit_transform(df2)"
      ],
      "metadata": {
        "id": "reGgxEc9k3Wv"
      },
      "execution_count": 301,
      "outputs": []
    },
    {
      "cell_type": "markdown",
      "source": [
        "###Use a KMeans model to cluster the students into an optimal number of clusters\n",
        "Use an elbow plot and silhouette score to find the optimal number of clusters.\n",
        "There must be between 2 and 10 clusters."
      ],
      "metadata": {
        "id": "RdsyBN1kk8_Z"
      }
    },
    {
      "cell_type": "code",
      "source": [
        "k_range = range(2, 10)\n",
        "sil_scores = []\n",
        "inertias = []\n",
        "\n",
        "for k in k_range:\n",
        "  kmeans = KMeans(n_clusters = k)\n",
        "  kmeans.fit(df2_scaled)\n",
        "\n",
        "  sil_scores.append(silhouette_score(df2_scaled, kmeans.labels_))\n",
        "  inertias.append(kmeans.inertia_)\n",
        "\n",
        "plt.plot(k_range, sil_scores)\n",
        "plt.title('Silhouette Scores')\n",
        "plt.show()\n",
        "\n",
        "plt.plot(k_range, inertias)\n",
        "plt.title('Inertias')\n",
        "plt.show();"
      ],
      "metadata": {
        "colab": {
          "base_uri": "https://localhost:8080/",
          "height": 1000
        },
        "id": "8zKp7bldlBak",
        "outputId": "b82a03e7-75ab-458f-be84-d162e89827aa"
      },
      "execution_count": 279,
      "outputs": [
        {
          "output_type": "stream",
          "name": "stderr",
          "text": [
            "/usr/local/lib/python3.10/dist-packages/sklearn/cluster/_kmeans.py:870: FutureWarning: The default value of `n_init` will change from 10 to 'auto' in 1.4. Set the value of `n_init` explicitly to suppress the warning\n",
            "  warnings.warn(\n",
            "/usr/local/lib/python3.10/dist-packages/sklearn/cluster/_kmeans.py:870: FutureWarning: The default value of `n_init` will change from 10 to 'auto' in 1.4. Set the value of `n_init` explicitly to suppress the warning\n",
            "  warnings.warn(\n",
            "/usr/local/lib/python3.10/dist-packages/sklearn/cluster/_kmeans.py:870: FutureWarning: The default value of `n_init` will change from 10 to 'auto' in 1.4. Set the value of `n_init` explicitly to suppress the warning\n",
            "  warnings.warn(\n",
            "/usr/local/lib/python3.10/dist-packages/sklearn/cluster/_kmeans.py:870: FutureWarning: The default value of `n_init` will change from 10 to 'auto' in 1.4. Set the value of `n_init` explicitly to suppress the warning\n",
            "  warnings.warn(\n",
            "/usr/local/lib/python3.10/dist-packages/sklearn/cluster/_kmeans.py:870: FutureWarning: The default value of `n_init` will change from 10 to 'auto' in 1.4. Set the value of `n_init` explicitly to suppress the warning\n",
            "  warnings.warn(\n",
            "/usr/local/lib/python3.10/dist-packages/sklearn/cluster/_kmeans.py:870: FutureWarning: The default value of `n_init` will change from 10 to 'auto' in 1.4. Set the value of `n_init` explicitly to suppress the warning\n",
            "  warnings.warn(\n",
            "/usr/local/lib/python3.10/dist-packages/sklearn/cluster/_kmeans.py:870: FutureWarning: The default value of `n_init` will change from 10 to 'auto' in 1.4. Set the value of `n_init` explicitly to suppress the warning\n",
            "  warnings.warn(\n",
            "/usr/local/lib/python3.10/dist-packages/sklearn/cluster/_kmeans.py:870: FutureWarning: The default value of `n_init` will change from 10 to 'auto' in 1.4. Set the value of `n_init` explicitly to suppress the warning\n",
            "  warnings.warn(\n"
          ]
        },
        {
          "output_type": "display_data",
          "data": {
            "text/plain": [
              "<Figure size 640x480 with 1 Axes>"
            ],
            "image/png": "[encoded data removed]"
          },
          "metadata": {}
        },
        {
          "output_type": "display_data",
          "data": {
            "text/plain": [
              "<Figure size 640x480 with 1 Axes>"
            ],
            "image/png": "[encoded data removed]"
          },
          "metadata": {}
        }
      ]
    },
    {
      "cell_type": "markdown",
      "source": [
        "We have a couple of choices of clusters numbers here. The best silhouette score is 2. The elbows in the inertia plot seem to be at 4 and 8. I'm going to choose to use 2 clusters."
      ],
      "metadata": {
        "id": "pwqimzC7lMr9"
      }
    },
    {
      "cell_type": "markdown",
      "source": [
        "## Analyze and report on the clusters."
      ],
      "metadata": {
        "id": "pyyICoqYl87R"
      }
    },
    {
      "cell_type": "code",
      "source": [
        "# Print the shape (dimensions) of the DataFrame 'df2'\n",
        "print(\"df2 shape:\", df2.shape)\n",
        "\n",
        "# Print the shape (dimensions) of the cluster labels obtained from K-means clustering\n",
        "print(\"Labels shape:\", kmeans_final.labels_.shape)\n",
        "\n",
        "# Print the first few rows of the DataFrame 'df2' to inspect the data\n",
        "print(\"Sample df2:\", df2.head())\n",
        "\n",
        "# Print the first few cluster labels assigned by K-means to inspect the clustering results\n",
        "print(\"Sample labels:\", kmeans_final.labels_[:5])\n"
      ],
      "metadata": {
        "colab": {
          "base_uri": "https://localhost:8080/"
        },
        "id": "qqMMJvsrnO0n",
        "outputId": "49f4bde1-5d0c-43b4-89d9-bc8e482487f6"
      },
      "execution_count": 302,
      "outputs": [
        {
          "output_type": "stream",
          "name": "stdout",
          "text": [
            "df2 shape: (4937, 172)\n",
            "Labels shape: (4937,)\n",
            "Sample df2:    SalePrice  SqFt1stFloor  SqFtHalfFloor  SqFt2ndFloor  SqFtUpperFloor  \\\n",
            "0     400000          1590              0             0               0   \n",
            "1     474250          1390              0             0               0   \n",
            "2     667950          1010              0          1515               0   \n",
            "3     659000           660              0           540               0   \n",
            "4     656500          2310              0             0               0   \n",
            "\n",
            "   SqFtTotLiving  SqFtTotBasement  SqFtFinBasement  SqFtGarageBasement  \\\n",
            "0           3180             1590             1590                   0   \n",
            "1           2200              810              810                   0   \n",
            "2           2525                0                0                   0   \n",
            "3           1820              620              620                   0   \n",
            "4           2310                0                0                   0   \n",
            "\n",
            "   SqFtGarageAttached  ...  MonthSold_08  MonthSold_09  MonthSold_10  \\\n",
            "0                 600  ...             0             0             0   \n",
            "1                   0  ...             0             0             0   \n",
            "2                 400  ...             0             0             0   \n",
            "3                   0  ...             0             1             0   \n",
            "4                 440  ...             0             0             1   \n",
            "\n",
            "   MonthSold_11  MonthSold_12  YearSold_2017  YearSold_2018  YearSold_2019  \\\n",
            "0             0             0              1              0              0   \n",
            "1             0             0              0              1              0   \n",
            "2             0             0              0              0              1   \n",
            "3             0             0              1              0              0   \n",
            "4             0             0              1              0              0   \n",
            "\n",
            "   YearSold_2020  cluster  \n",
            "0              0        0  \n",
            "1              0        0  \n",
            "2              0        1  \n",
            "3              0        1  \n",
            "4              0        0  \n",
            "\n",
            "[5 rows x 172 columns]\n",
            "Sample labels: [0 0 1 1 0]\n"
          ]
        }
      ]
    },
    {
      "cell_type": "code",
      "source": [
        "# Create a K-means clustering model with 2 clusters\n",
        "kmeans_final = KMeans(n_clusters=2)\n",
        "\n",
        "# Fit the K-means model to the scaled data 'df2_scaled'\n",
        "kmeans_final.fit(df2_scaled)\n",
        "\n",
        "# Assign cluster labels to the original DataFrame 'df2'\n",
        "df2['cluster'] = kmeans_final.labels_\n"
      ],
      "metadata": {
        "colab": {
          "base_uri": "https://localhost:8080/"
        },
        "id": "RxDUdnLrzQ9g",
        "outputId": "d91c3e2d-51f1-4958-8a6f-a5695cd3ef5d"
      },
      "execution_count": 303,
      "outputs": [
        {
          "output_type": "stream",
          "name": "stderr",
          "text": [
            "/usr/local/lib/python3.10/dist-packages/sklearn/cluster/_kmeans.py:870: FutureWarning: The default value of `n_init` will change from 10 to 'auto' in 1.4. Set the value of `n_init` explicitly to suppress the warning\n",
            "  warnings.warn(\n"
          ]
        }
      ]
    },
    {
      "cell_type": "markdown",
      "source": [
        "## Describe each cluster"
      ],
      "metadata": {
        "id": "B0M-PXBZmI0G"
      }
    },
    {
      "cell_type": "code",
      "source": [
        "clusters_grouped = df2.groupby('cluster').mean()\n",
        "clusters_grouped"
      ],
      "metadata": {
        "colab": {
          "base_uri": "https://localhost:8080/",
          "height": 193
        },
        "id": "WcyFmXCsmKoB",
        "outputId": "b67b8134-ccc7-4d48-8975-87e55c0531f0"
      },
      "execution_count": 282,
      "outputs": [
        {
          "output_type": "execute_result",
          "data": {
            "text/plain": [
              "             SalePrice  SqFt1stFloor  SqFtHalfFloor  SqFt2ndFloor  \\\n",
              "cluster                                                             \n",
              "0        585094.110481   1264.450582      70.191998     86.604957   \n",
              "1        831952.858942    990.831234      12.789673    902.145466   \n",
              "\n",
              "         SqFtUpperFloor  SqFtTotLiving  SqFtTotBasement  SqFtFinBasement  \\\n",
              "cluster                                                                    \n",
              "0              1.040609    1767.901463       677.444013       348.971633   \n",
              "1             80.940176    2290.246851       423.379093       304.327456   \n",
              "\n",
              "         SqFtGarageBasement  SqFtGarageAttached  ...  MonthSold_07  \\\n",
              "cluster                                          ...                 \n",
              "0                 111.93610          152.174679  ...      0.090176   \n",
              "1                  82.63602          208.968514  ...      0.066121   \n",
              "\n",
              "         MonthSold_08  MonthSold_09  MonthSold_10  MonthSold_11  MonthSold_12  \\\n",
              "cluster                                                                         \n",
              "0            0.104807      0.088385      0.099134      0.092864      0.074052   \n",
              "1            0.085013      0.086272      0.088161      0.088161      0.082494   \n",
              "\n",
              "         YearSold_2017  YearSold_2018  YearSold_2019  YearSold_2020  \n",
              "cluster                                                              \n",
              "0             0.251717       0.229322       0.243655       0.016423  \n",
              "1             0.234887       0.196474       0.326826       0.022040  \n",
              "\n",
              "[2 rows x 171 columns]"
            ],
            "text/html": [
              "\n",
              "  <div id=\"df-e77401a3-7ea0-4fb1-be35-87dbf414603c\" class=\"colab-df-container\">\n",
              "    <div>\n",
              "<style scoped>\n",
              "    .dataframe tbody tr th:only-of-type {\n",
              "        vertical-align: middle;\n",
              "    }\n",
              "\n",
              "    .dataframe tbody tr th {\n",
              "        vertical-align: top;\n",
              "    }\n",
              "\n",
              "    .dataframe thead th {\n",
              "        text-align: right;\n",
              "    }\n",
              "</style>\n",
              "<table border=\"1\" class=\"dataframe\">\n",
              "  <thead>\n",
              "    <tr style=\"text-align: right;\">\n",
              "      <th></th>\n",
              "      <th>SalePrice</th>\n",
              "      <th>SqFt1stFloor</th>\n",
              "      <th>SqFtHalfFloor</th>\n",
              "      <th>SqFt2ndFloor</th>\n",
              "      <th>SqFtUpperFloor</th>\n",
              "      <th>SqFtTotLiving</th>\n",
              "      <th>SqFtTotBasement</th>\n",
              "      <th>SqFtFinBasement</th>\n",
              "      <th>SqFtGarageBasement</th>\n",
              "      <th>SqFtGarageAttached</th>\n",
              "      <th>...</th>\n",
              "      <th>MonthSold_07</th>\n",
              "      <th>MonthSold_08</th>\n",
              "      <th>MonthSold_09</th>\n",
              "      <th>MonthSold_10</th>\n",
              "      <th>MonthSold_11</th>\n",
              "      <th>MonthSold_12</th>\n",
              "      <th>YearSold_2017</th>\n",
              "      <th>YearSold_2018</th>\n",
              "      <th>YearSold_2019</th>\n",
              "      <th>YearSold_2020</th>\n",
              "    </tr>\n",
              "    <tr>\n",
              "      <th>cluster</th>\n",
              "      <th></th>\n",
              "      <th></th>\n",
              "      <th></th>\n",
              "      <th></th>\n",
              "      <th></th>\n",
              "      <th></th>\n",
              "      <th></th>\n",
              "      <th></th>\n",
              "      <th></th>\n",
              "      <th></th>\n",
              "      <th></th>\n",
              "      <th></th>\n",
              "      <th></th>\n",
              "      <th></th>\n",
              "      <th></th>\n",
              "      <th></th>\n",
              "      <th></th>\n",
              "      <th></th>\n",
              "      <th></th>\n",
              "      <th></th>\n",
              "      <th></th>\n",
              "    </tr>\n",
              "  </thead>\n",
              "  <tbody>\n",
              "    <tr>\n",
              "      <th>0</th>\n",
              "      <td>585094.110481</td>\n",
              "      <td>1264.450582</td>\n",
              "      <td>70.191998</td>\n",
              "      <td>86.604957</td>\n",
              "      <td>1.040609</td>\n",
              "      <td>1767.901463</td>\n",
              "      <td>677.444013</td>\n",
              "      <td>348.971633</td>\n",
              "      <td>111.93610</td>\n",
              "      <td>152.174679</td>\n",
              "      <td>...</td>\n",
              "      <td>0.090176</td>\n",
              "      <td>0.104807</td>\n",
              "      <td>0.088385</td>\n",
              "      <td>0.099134</td>\n",
              "      <td>0.092864</td>\n",
              "      <td>0.074052</td>\n",
              "      <td>0.251717</td>\n",
              "      <td>0.229322</td>\n",
              "      <td>0.243655</td>\n",
              "      <td>0.016423</td>\n",
              "    </tr>\n",
              "    <tr>\n",
              "      <th>1</th>\n",
              "      <td>831952.858942</td>\n",
              "      <td>990.831234</td>\n",
              "      <td>12.789673</td>\n",
              "      <td>902.145466</td>\n",
              "      <td>80.940176</td>\n",
              "      <td>2290.246851</td>\n",
              "      <td>423.379093</td>\n",
              "      <td>304.327456</td>\n",
              "      <td>82.63602</td>\n",
              "      <td>208.968514</td>\n",
              "      <td>...</td>\n",
              "      <td>0.066121</td>\n",
              "      <td>0.085013</td>\n",
              "      <td>0.086272</td>\n",
              "      <td>0.088161</td>\n",
              "      <td>0.088161</td>\n",
              "      <td>0.082494</td>\n",
              "      <td>0.234887</td>\n",
              "      <td>0.196474</td>\n",
              "      <td>0.326826</td>\n",
              "      <td>0.022040</td>\n",
              "    </tr>\n",
              "  </tbody>\n",
              "</table>\n",
              "<p>2 rows × 171 columns</p>\n",
              "</div>\n",
              "    <div class=\"colab-df-buttons\">\n",
              "\n",
              "  <div class=\"colab-df-container\">\n",
              "    <button class=\"colab-df-convert\" onclick=\"convertToInteractive('df-e77401a3-7ea0-4fb1-be35-87dbf414603c')\"\n",
              "            title=\"Convert this dataframe to an interactive table.\"\n",
              "            style=\"display:none;\">\n",
              "\n",
              "  <svg xmlns=\"http://www.w3.org/2000/svg\" height=\"24px\" viewBox=\"0 -960 960 960\">\n",
              "    <path d=\"M120-120v-720h720v720H120Zm60-500h600v-160H180v160Zm220 220h160v-160H400v160Zm0 220h160v-160H400v160ZM180-400h160v-160H180v160Zm440 0h160v-160H620v160ZM180-180h160v-160H180v160Zm440 0h160v-160H620v160Z\"/>\n",
              "  </svg>\n",
              "    </button>\n",
              "\n",
              "  <style>\n",
              "    .colab-df-container {\n",
              "      display:flex;\n",
              "      gap: 12px;\n",
              "    }\n",
              "\n",
              "    .colab-df-convert {\n",
              "      background-color: #E8F0FE;\n",
              "      border: none;\n",
              "      border-radius: 50%;\n",
              "      cursor: pointer;\n",
              "      display: none;\n",
              "      fill: #1967D2;\n",
              "      height: 32px;\n",
              "      padding: 0 0 0 0;\n",
              "      width: 32px;\n",
              "    }\n",
              "\n",
              "    .colab-df-convert:hover {\n",
              "      background-color: #E2EBFA;\n",
              "      box-shadow: 0px 1px 2px rgba(60, 64, 67, 0.3), 0px 1px 3px 1px rgba(60, 64, 67, 0.15);\n",
              "      fill: #174EA6;\n",
              "    }\n",
              "\n",
              "    .colab-df-buttons div {\n",
              "      margin-bottom: 4px;\n",
              "    }\n",
              "\n",
              "    [theme=dark] .colab-df-convert {\n",
              "      background-color: #3B4455;\n",
              "      fill: #D2E3FC;\n",
              "    }\n",
              "\n",
              "    [theme=dark] .colab-df-convert:hover {\n",
              "      background-color: #434B5C;\n",
              "      box-shadow: 0px 1px 3px 1px rgba(0, 0, 0, 0.15);\n",
              "      filter: drop-shadow(0px 1px 2px rgba(0, 0, 0, 0.3));\n",
              "      fill: #FFFFFF;\n",
              "    }\n",
              "  </style>\n",
              "\n",
              "    <script>\n",
              "      const buttonEl =\n",
              "        document.querySelector('#df-e77401a3-7ea0-4fb1-be35-87dbf414603c button.colab-df-convert');\n",
              "      buttonEl.style.display =\n",
              "        google.colab.kernel.accessAllowed ? 'block' : 'none';\n",
              "\n",
              "      async function convertToInteractive(key) {\n",
              "        const element = document.querySelector('#df-e77401a3-7ea0-4fb1-be35-87dbf414603c');\n",
              "        const dataTable =\n",
              "          await google.colab.kernel.invokeFunction('convertToInteractive',\n",
              "                                                    [key], {});\n",
              "        if (!dataTable) return;\n",
              "\n",
              "        const docLinkHtml = 'Like what you see? Visit the ' +\n",
              "          '<a target=\"_blank\" href=https://colab.research.google.com/notebooks/data_table.ipynb>data table notebook</a>'\n",
              "          + ' to learn more about interactive tables.';\n",
              "        element.innerHTML = '';\n",
              "        dataTable['output_type'] = 'display_data';\n",
              "        await google.colab.output.renderOutput(dataTable, element);\n",
              "        const docLink = document.createElement('div');\n",
              "        docLink.innerHTML = docLinkHtml;\n",
              "        element.appendChild(docLink);\n",
              "      }\n",
              "    </script>\n",
              "  </div>\n",
              "\n",
              "\n",
              "<div id=\"df-09f05c2d-3c75-4f2e-bd90-d466f0d1f573\">\n",
              "  <button class=\"colab-df-quickchart\" onclick=\"quickchart('df-09f05c2d-3c75-4f2e-bd90-d466f0d1f573')\"\n",
              "            title=\"Suggest charts.\"\n",
              "            style=\"display:none;\">\n",
              "\n",
              "<svg xmlns=\"http://www.w3.org/2000/svg\" height=\"24px\"viewBox=\"0 0 24 24\"\n",
              "     width=\"24px\">\n",
              "    <g>\n",
              "        <path d=\"M19 3H5c-1.1 0-2 .9-2 2v14c0 1.1.9 2 2 2h14c1.1 0 2-.9 2-2V5c0-1.1-.9-2-2-2zM9 17H7v-7h2v7zm4 0h-2V7h2v10zm4 0h-2v-4h2v4z\"/>\n",
              "    </g>\n",
              "</svg>\n",
              "  </button>\n",
              "\n",
              "<style>\n",
              "  .colab-df-quickchart {\n",
              "      --bg-color: #E8F0FE;\n",
              "      --fill-color: #1967D2;\n",
              "      --hover-bg-color: #E2EBFA;\n",
              "      --hover-fill-color: #174EA6;\n",
              "      --disabled-fill-color: #AAA;\n",
              "      --disabled-bg-color: #DDD;\n",
              "  }\n",
              "\n",
              "  [theme=dark] .colab-df-quickchart {\n",
              "      --bg-color: #3B4455;\n",
              "      --fill-color: #D2E3FC;\n",
              "      --hover-bg-color: #434B5C;\n",
              "      --hover-fill-color: #FFFFFF;\n",
              "      --disabled-bg-color: #3B4455;\n",
              "      --disabled-fill-color: #666;\n",
              "  }\n",
              "\n",
              "  .colab-df-quickchart {\n",
              "    background-color: var(--bg-color);\n",
              "    border: none;\n",
              "    border-radius: 50%;\n",
              "    cursor: pointer;\n",
              "    display: none;\n",
              "    fill: var(--fill-color);\n",
              "    height: 32px;\n",
              "    padding: 0;\n",
              "    width: 32px;\n",
              "  }\n",
              "\n",
              "  .colab-df-quickchart:hover {\n",
              "    background-color: var(--hover-bg-color);\n",
              "    box-shadow: 0 1px 2px rgba(60, 64, 67, 0.3), 0 1px 3px 1px rgba(60, 64, 67, 0.15);\n",
              "    fill: var(--button-hover-fill-color);\n",
              "  }\n",
              "\n",
              "  .colab-df-quickchart-complete:disabled,\n",
              "  .colab-df-quickchart-complete:disabled:hover {\n",
              "    background-color: var(--disabled-bg-color);\n",
              "    fill: var(--disabled-fill-color);\n",
              "    box-shadow: none;\n",
              "  }\n",
              "\n",
              "  .colab-df-spinner {\n",
              "    border: 2px solid var(--fill-color);\n",
              "    border-color: transparent;\n",
              "    border-bottom-color: var(--fill-color);\n",
              "    animation:\n",
              "      spin 1s steps(1) infinite;\n",
              "  }\n",
              "\n",
              "  @keyframes spin {\n",
              "    0% {\n",
              "      border-color: transparent;\n",
              "      border-bottom-color: var(--fill-color);\n",
              "      border-left-color: var(--fill-color);\n",
              "    }\n",
              "    20% {\n",
              "      border-color: transparent;\n",
              "      border-left-color: var(--fill-color);\n",
              "      border-top-color: var(--fill-color);\n",
              "    }\n",
              "    30% {\n",
              "      border-color: transparent;\n",
              "      border-left-color: var(--fill-color);\n",
              "      border-top-color: var(--fill-color);\n",
              "      border-right-color: var(--fill-color);\n",
              "    }\n",
              "    40% {\n",
              "      border-color: transparent;\n",
              "      border-right-color: var(--fill-color);\n",
              "      border-top-color: var(--fill-color);\n",
              "    }\n",
              "    60% {\n",
              "      border-color: transparent;\n",
              "      border-right-color: var(--fill-color);\n",
              "    }\n",
              "    80% {\n",
              "      border-color: transparent;\n",
              "      border-right-color: var(--fill-color);\n",
              "      border-bottom-color: var(--fill-color);\n",
              "    }\n",
              "    90% {\n",
              "      border-color: transparent;\n",
              "      border-bottom-color: var(--fill-color);\n",
              "    }\n",
              "  }\n",
              "</style>\n",
              "\n",
              "  <script>\n",
              "    async function quickchart(key) {\n",
              "      const quickchartButtonEl =\n",
              "        document.querySelector('#' + key + ' button');\n",
              "      quickchartButtonEl.disabled = true;  // To prevent multiple clicks.\n",
              "      quickchartButtonEl.classList.add('colab-df-spinner');\n",
              "      try {\n",
              "        const charts = await google.colab.kernel.invokeFunction(\n",
              "            'suggestCharts', [key], {});\n",
              "      } catch (error) {\n",
              "        console.error('Error during call to suggestCharts:', error);\n",
              "      }\n",
              "      quickchartButtonEl.classList.remove('colab-df-spinner');\n",
              "      quickchartButtonEl.classList.add('colab-df-quickchart-complete');\n",
              "    }\n",
              "    (() => {\n",
              "      let quickchartButtonEl =\n",
              "        document.querySelector('#df-09f05c2d-3c75-4f2e-bd90-d466f0d1f573 button');\n",
              "      quickchartButtonEl.style.display =\n",
              "        google.colab.kernel.accessAllowed ? 'block' : 'none';\n",
              "    })();\n",
              "  </script>\n",
              "</div>\n",
              "    </div>\n",
              "  </div>\n"
            ]
          },
          "metadata": {},
          "execution_count": 282
        }
      ]
    },
    {
      "cell_type": "markdown",
      "source": [
        "##**Cluster 0:**\n",
        "\n",
        "**SalePrice:** The average sale price in this cluster is approximately $584,836.\n",
        "\n",
        "**SqFtTotLiving:** The average total living area is around 1,767 square feet, suggesting smaller homes on average.\n",
        "\n",
        "**YrBuilt:** The average year of construction is approximately 1955, indicating older homes.\n",
        "\n",
        "\n",
        "\n",
        "\n",
        "## **Cluster 1:**\n",
        "\n",
        "**SalePrice:** The average sale price in this cluster is significantly higher, approximately $831,744.\n",
        "\n",
        "**SqFtTotLiving:** The average total living area is significantly larger, around 2,291 square feet, suggesting larger homes on average.\n",
        "\n",
        "**YrBuilt:** The average year of construction is approximately 2008, indicating newer homes.\n",
        "\n",
        "\n",
        "\n",
        "## **Key Differences**\n",
        "**Price:** Cluster 1 has a much higher average sale price compared to Cluster 0, indicating that homes in Cluster 1 are generally more expensive.\n",
        "\n",
        "**Total Living Area:** Cluster 1 also has a larger average total living area, suggesting that homes in this cluster are more spacious.\n",
        "\n",
        "**Year Built:** Cluster 1 consists of newer homes, with an average year of construction around 2008, while Cluster 0 includes older homes built around 1955."
      ],
      "metadata": {
        "id": "XCdaonvXpWvU"
      }
    },
    {
      "cell_type": "markdown",
      "source": [
        "###Create 2 report quality explanatory visualizations showing important differences between the clusters."
      ],
      "metadata": {
        "id": "UqzgalMirIIH"
      }
    },
    {
      "cell_type": "code",
      "source": [
        "plt.bar(clusters_grouped.index, clusters_grouped['SalePrice'])\n",
        "plt.title('Average Sale Price in each cluster')\n",
        "plt.ylabel('Sale Price')\n",
        "plt.xlabel('Cluster')\n",
        "plt.xticks(clusters_grouped.index);"
      ],
      "metadata": {
        "colab": {
          "base_uri": "https://localhost:8080/",
          "height": 472
        },
        "id": "J89JWeKJrARZ",
        "outputId": "1b7518b8-6da1-4ec7-88c5-365f370bd14f"
      },
      "execution_count": 283,
      "outputs": [
        {
          "output_type": "display_data",
          "data": {
            "text/plain": [
              "<Figure size 640x480 with 1 Axes>"
            ],
            "image/png": "[encoded data removed]"
          },
          "metadata": {}
        }
      ]
    },
    {
      "cell_type": "markdown",
      "source": [
        "Cluster 1 has a much higher average sale price compared to Cluster 0, indicating that homes in Cluster 1 are generally more expensive."
      ],
      "metadata": {
        "id": "ZRcmsPic0jx6"
      }
    },
    {
      "cell_type": "code",
      "source": [
        "plt.bar(clusters_grouped.index, clusters_grouped['SqFtTotLiving'])\n",
        "plt.title('The average total living area per cluster')\n",
        "plt.ylabel('The average total living area')\n",
        "plt.xlabel('Cluster')\n",
        "plt.xticks(clusters_grouped.index);"
      ],
      "metadata": {
        "colab": {
          "base_uri": "https://localhost:8080/",
          "height": 472
        },
        "id": "t8N466oMsx5v",
        "outputId": "d43150ca-578e-4f94-8a13-2ad8cb9322b4"
      },
      "execution_count": 284,
      "outputs": [
        {
          "output_type": "display_data",
          "data": {
            "text/plain": [
              "<Figure size 640x480 with 1 Axes>"
            ],
            "image/png": "[encoded data removed]"
          },
          "metadata": {}
        }
      ]
    },
    {
      "cell_type": "markdown",
      "source": [
        "Cluster 1 also has a larger average total living area, suggesting that homes in this cluster are more spacious."
      ],
      "metadata": {
        "id": "1J8ZlPZB0twD"
      }
    },
    {
      "cell_type": "code",
      "source": [
        "plt.bar(clusters_grouped.index, clusters_grouped['YrBuilt'])\n",
        "plt.title('The average year houses were built per cluster')\n",
        "plt.ylabel('The average total living area')\n",
        "plt.xlabel('Cluster')\n",
        "plt.xticks(clusters_grouped.index);"
      ],
      "metadata": {
        "colab": {
          "base_uri": "https://localhost:8080/",
          "height": 472
        },
        "id": "wCyK_DIitTAR",
        "outputId": "c91f7745-9c05-4ca9-ae82-bcd0562197e3"
      },
      "execution_count": 285,
      "outputs": [
        {
          "output_type": "display_data",
          "data": {
            "text/plain": [
              "<Figure size 640x480 with 1 Axes>"
            ],
            "image/png": "[encoded data removed]"
          },
          "metadata": {}
        }
      ]
    },
    {
      "cell_type": "markdown",
      "source": [
        "Cluster 1 consists of newer homes, with an average year of construction around 2008, while Cluster 0 includes older homes built around 1955."
      ],
      "metadata": {
        "id": "pg-xQ74I0yNs"
      }
    },
    {
      "cell_type": "markdown",
      "source": [
        "##Modeling"
      ],
      "metadata": {
        "id": "6IaH-7qz018c"
      }
    },
    {
      "cell_type": "markdown",
      "source": [
        "###Use random_state = 42 for your train_test_split"
      ],
      "metadata": {
        "id": "IFnpJzTF0_oS"
      }
    },
    {
      "cell_type": "code",
      "source": [
        "X = df2.drop(columns=['SalePrice'])\n",
        "y = df2['SalePrice']\n",
        "\n",
        "X_train, X_test, y_train, y_test = train_test_split(X, y, random_state=42)"
      ],
      "metadata": {
        "id": "FaEJsfLbKy1r"
      },
      "execution_count": 286,
      "outputs": []
    },
    {
      "cell_type": "markdown",
      "source": [
        "###Apply PCA to reduce the number of features to a more reasonable number."
      ],
      "metadata": {
        "id": "QNFtknck1Eqg"
      }
    },
    {
      "cell_type": "code",
      "source": [
        "scaler = StandardScaler()\n",
        "X_train_scaled = scaler.fit_transform(X_train)\n",
        "X_test_scaled = scaler.transform(X_test)\n",
        "\n",
        "# Initialize PCA with the number of components you want\n",
        "pca = PCA(n_components=22)\n",
        "pca.fit(X_train_scaled)\n",
        "\n",
        "# Plot explained variance ratio\n",
        "plt.plot(range(1, 23), pca.explained_variance_ratio_, marker='.')\n",
        "plt.xticks(ticks=range(1, 23))\n",
        "plt.xlabel('Principal Component')\n",
        "plt.ylabel('Explained Variance Ratio')\n",
        "plt.title('Explained Variance Ratio for Each Principal Component')\n",
        "plt.show()"
      ],
      "metadata": {
        "colab": {
          "base_uri": "https://localhost:8080/",
          "height": 472
        },
        "id": "9t6KyONFLIBi",
        "outputId": "a18f43cf-4480-411e-e562-e4e4022bcdb5"
      },
      "execution_count": 287,
      "outputs": [
        {
          "output_type": "display_data",
          "data": {
            "text/plain": [
              "<Figure size 640x480 with 1 Axes>"
            ],
            "image/png": "[encoded data removed]"
          },
          "metadata": {}
        }
      ]
    },
    {
      "cell_type": "markdown",
      "source": [
        "Based on the above plot I might choose either 4 or 7 components to keep. I will choose 7."
      ],
      "metadata": {
        "id": "ichb2VBILSqt"
      }
    },
    {
      "cell_type": "markdown",
      "source": [
        "###Apply PCA to reduce the number of features to a more reasonable number."
      ],
      "metadata": {
        "id": "DFP60Kqg1J2q"
      }
    },
    {
      "cell_type": "code",
      "source": [
        "# Create a PCA (Principal Component Analysis) instance with 7 components\n",
        "pca7 = PCA(n_components=7)\n",
        "\n",
        "# Fit and transform the training data 'X_train_scaled' using PCA\n",
        "X_train_pca = pca7.fit_transform(X_train_scaled)\n",
        "\n",
        "# Transform the testing data 'X_test_scaled' using the same PCA model\n",
        "X_test_pca = pca7.transform(X_test_scaled)\n"
      ],
      "metadata": {
        "id": "h4TQ5HH0L1H7"
      },
      "execution_count": 304,
      "outputs": []
    },
    {
      "cell_type": "markdown",
      "source": [
        "##Report the how many fewer columns are present after PCA."
      ],
      "metadata": {
        "id": "RicFvvyCfc90"
      }
    },
    {
      "cell_type": "code",
      "source": [
        "difference = X_train.shape[1] - X_train_pca.shape[1]\n",
        "\n",
        "print(f'There are {difference} fewer columns after applying PCA')"
      ],
      "metadata": {
        "colab": {
          "base_uri": "https://localhost:8080/"
        },
        "id": "vELpf4Odfews",
        "outputId": "504cb3d8-da9f-48fc-aa74-4c752d27052c"
      },
      "execution_count": 289,
      "outputs": [
        {
          "output_type": "stream",
          "name": "stdout",
          "text": [
            "There are 164 fewer columns after applying PCA\n"
          ]
        }
      ]
    },
    {
      "cell_type": "markdown",
      "source": [
        "##Report the amount of variance retained after PCA."
      ],
      "metadata": {
        "id": "BGA1hBmvflic"
      }
    },
    {
      "cell_type": "code",
      "source": [
        "variance = pca7.explained_variance_ratio_.sum()\n",
        "print(f'The pca explains {variance:.2f} percent of the variance of the original data')"
      ],
      "metadata": {
        "colab": {
          "base_uri": "https://localhost:8080/"
        },
        "id": "RD_IzLDRfm8x",
        "outputId": "3f9e6953-3b8f-4178-c4cd-173049a46081"
      },
      "execution_count": 290,
      "outputs": [
        {
          "output_type": "stream",
          "name": "stdout",
          "text": [
            "The pca explains 0.14 percent of the variance of the original data\n"
          ]
        }
      ]
    },
    {
      "cell_type": "markdown",
      "source": [
        "## Use a deep learning model to predict the sale price of each house.\n",
        "\n",
        "1. Create 3 different versions of a sequential model.\n",
        "  1. Each new model should be an iteration on the previous model.\n",
        "  2. Justify in writing why you changed what you did for each new model.\n",
        "  3. For example, why did you add layers, regularization, nodes, etc.\n",
        "2. Use some form of regularization with at least one model.\n",
        "3. Evaluate each model with appropriate metrics."
      ],
      "metadata": {
        "id": "Iy6Uxf3WfsVJ"
      }
    },
    {
      "cell_type": "markdown",
      "source": [
        "## Basic Model"
      ],
      "metadata": {
        "id": "kl1BVOe8-59W"
      }
    },
    {
      "cell_type": "code",
      "source": [
        "# Version 1: Basic Model\n",
        "model_v1 = Sequential()\n",
        "model_v1.add(Dense(units=64, activation='relu', input_dim=X_train_pca.shape[1]))  # Input layer\n",
        "model_v1.add(Dense(units=32, activation='relu'))  # Hidden layer\n",
        "model_v1.add(Dense(units=1, activation='linear'))  # Output layer\n",
        "\n",
        "# Compile the model\n",
        "model_v1.compile(optimizer='adam', loss='mean_squared_error')\n",
        "\n",
        "# Train the model on training data\n",
        "model_v1.fit(X_train_pca, y_train, epochs=50, batch_size=32)\n",
        "\n",
        "# Evaluate the model on test data\n",
        "y_pred_v1 = model_v1.predict(X_test_pca)\n"
      ],
      "metadata": {
        "colab": {
          "base_uri": "https://localhost:8080/"
        },
        "id": "OeEKW7P28Ddr",
        "outputId": "781134cc-88f6-49fb-8e4b-d29eabc0d8aa"
      },
      "execution_count": 291,
      "outputs": [
        {
          "output_type": "stream",
          "name": "stdout",
          "text": [
            "Epoch 1/50\n",
            "116/116 [==============================] - 1s 2ms/step - loss: 531700842496.0000\n",
            "Epoch 2/50\n",
            "116/116 [==============================] - 0s 2ms/step - loss: 531568721920.0000\n",
            "Epoch 3/50\n",
            "116/116 [==============================] - 0s 2ms/step - loss: 531102629888.0000\n",
            "Epoch 4/50\n",
            "116/116 [==============================] - 0s 2ms/step - loss: 530060705792.0000\n",
            "Epoch 5/50\n",
            "116/116 [==============================] - 0s 2ms/step - loss: 528210067456.0000\n",
            "Epoch 6/50\n",
            "116/116 [==============================] - 0s 2ms/step - loss: 525346013184.0000\n",
            "Epoch 7/50\n",
            "116/116 [==============================] - 0s 2ms/step - loss: 521322463232.0000\n",
            "Epoch 8/50\n",
            "116/116 [==============================] - 0s 2ms/step - loss: 516010868736.0000\n",
            "Epoch 9/50\n",
            "116/116 [==============================] - 0s 2ms/step - loss: 509330522112.0000\n",
            "Epoch 10/50\n",
            "116/116 [==============================] - 0s 2ms/step - loss: 501221228544.0000\n",
            "Epoch 11/50\n",
            "116/116 [==============================] - 0s 2ms/step - loss: 491664769024.0000\n",
            "Epoch 12/50\n",
            "116/116 [==============================] - 0s 2ms/step - loss: 480659767296.0000\n",
            "Epoch 13/50\n",
            "116/116 [==============================] - 0s 2ms/step - loss: 468209631232.0000\n",
            "Epoch 14/50\n",
            "116/116 [==============================] - 0s 2ms/step - loss: 454387695616.0000\n",
            "Epoch 15/50\n",
            "116/116 [==============================] - 0s 2ms/step - loss: 439317463040.0000\n",
            "Epoch 16/50\n",
            "116/116 [==============================] - 0s 2ms/step - loss: 423041761280.0000\n",
            "Epoch 17/50\n",
            "116/116 [==============================] - 0s 2ms/step - loss: 405745172480.0000\n",
            "Epoch 18/50\n",
            "116/116 [==============================] - 0s 2ms/step - loss: 387539927040.0000\n",
            "Epoch 19/50\n",
            "116/116 [==============================] - 0s 2ms/step - loss: 368627318784.0000\n",
            "Epoch 20/50\n",
            "116/116 [==============================] - 0s 2ms/step - loss: 349239050240.0000\n",
            "Epoch 21/50\n",
            "116/116 [==============================] - 0s 2ms/step - loss: 329585360896.0000\n",
            "Epoch 22/50\n",
            "116/116 [==============================] - 0s 2ms/step - loss: 309839429632.0000\n",
            "Epoch 23/50\n",
            "116/116 [==============================] - 0s 2ms/step - loss: 290130919424.0000\n",
            "Epoch 24/50\n",
            "116/116 [==============================] - 0s 2ms/step - loss: 270748385280.0000\n",
            "Epoch 25/50\n",
            "116/116 [==============================] - 0s 2ms/step - loss: 251864268800.0000\n",
            "Epoch 26/50\n",
            "116/116 [==============================] - 0s 2ms/step - loss: 233632219136.0000\n",
            "Epoch 27/50\n",
            "116/116 [==============================] - 0s 2ms/step - loss: 216223858688.0000\n",
            "Epoch 28/50\n",
            "116/116 [==============================] - 0s 2ms/step - loss: 199792820224.0000\n",
            "Epoch 29/50\n",
            "116/116 [==============================] - 0s 2ms/step - loss: 184472961024.0000\n",
            "Epoch 30/50\n",
            "116/116 [==============================] - 0s 2ms/step - loss: 170257498112.0000\n",
            "Epoch 31/50\n",
            "116/116 [==============================] - 0s 2ms/step - loss: 157294542848.0000\n",
            "Epoch 32/50\n",
            "116/116 [==============================] - 0s 2ms/step - loss: 145572085760.0000\n",
            "Epoch 33/50\n",
            "116/116 [==============================] - 0s 2ms/step - loss: 135053557760.0000\n",
            "Epoch 34/50\n",
            "116/116 [==============================] - 0s 2ms/step - loss: 125721821184.0000\n",
            "Epoch 35/50\n",
            "116/116 [==============================] - 0s 3ms/step - loss: 117505900544.0000\n",
            "Epoch 36/50\n",
            "116/116 [==============================] - 0s 3ms/step - loss: 110305173504.0000\n",
            "Epoch 37/50\n",
            "116/116 [==============================] - 0s 2ms/step - loss: 104021032960.0000\n",
            "Epoch 38/50\n",
            "116/116 [==============================] - 0s 2ms/step - loss: 98523029504.0000\n",
            "Epoch 39/50\n",
            "116/116 [==============================] - 0s 2ms/step - loss: 93718618112.0000\n",
            "Epoch 40/50\n",
            "116/116 [==============================] - 0s 3ms/step - loss: 89525551104.0000\n",
            "Epoch 41/50\n",
            "116/116 [==============================] - 0s 3ms/step - loss: 85823004672.0000\n",
            "Epoch 42/50\n",
            "116/116 [==============================] - 0s 3ms/step - loss: 82523955200.0000\n",
            "Epoch 43/50\n",
            "116/116 [==============================] - 0s 3ms/step - loss: 79575302144.0000\n",
            "Epoch 44/50\n",
            "116/116 [==============================] - 0s 2ms/step - loss: 76935462912.0000\n",
            "Epoch 45/50\n",
            "116/116 [==============================] - 0s 2ms/step - loss: 74542800896.0000\n",
            "Epoch 46/50\n",
            "116/116 [==============================] - 0s 2ms/step - loss: 72389189632.0000\n",
            "Epoch 47/50\n",
            "116/116 [==============================] - 0s 2ms/step - loss: 70442606592.0000\n",
            "Epoch 48/50\n",
            "116/116 [==============================] - 0s 2ms/step - loss: 68678807552.0000\n",
            "Epoch 49/50\n",
            "116/116 [==============================] - 0s 2ms/step - loss: 67097370624.0000\n",
            "Epoch 50/50\n",
            "116/116 [==============================] - 0s 2ms/step - loss: 65660940288.0000\n",
            "39/39 [==============================] - 0s 1ms/step\n"
          ]
        }
      ]
    },
    {
      "cell_type": "markdown",
      "source": [
        "##Adding Complexity"
      ],
      "metadata": {
        "id": "TBsgUL-N_DWA"
      }
    },
    {
      "cell_type": "code",
      "source": [
        "# Version 2: Adding Complexity\n",
        "model_v2 = Sequential()\n",
        "model_v2.add(Dense(units=128, activation='relu', input_dim=X_train_pca.shape[1]))  # Input layer\n",
        "model_v2.add(Dense(units=64, activation='relu'))  # Hidden layer 1\n",
        "model_v2.add(Dense(units=64, activation='relu'))  # Hidden layer 2\n",
        "model_v2.add(Dense(units=32, activation='relu'))  # Hidden layer 3\n",
        "model_v2.add(Dense(units=1, activation='linear'))  # Output layer\n",
        "\n",
        "# Compile the model\n",
        "model_v2.compile(optimizer='adam', loss='mean_squared_error')\n",
        "\n",
        "# Train the model on training data\n",
        "model_v2.fit(X_train_pca, y_train, epochs=100, batch_size=64)\n",
        "\n",
        "# Evaluate the model on test data\n",
        "y_pred_v2 = model_v2.predict(X_test_pca)\n"
      ],
      "metadata": {
        "colab": {
          "base_uri": "https://localhost:8080/"
        },
        "id": "rXVO-lqN8K4D",
        "outputId": "dc89ba17-ce56-4a68-9738-4539ad79056d"
      },
      "execution_count": 292,
      "outputs": [
        {
          "output_type": "stream",
          "name": "stdout",
          "text": [
            "Epoch 1/100\n",
            "58/58 [==============================] - 1s 3ms/step - loss: 531678330880.0000\n",
            "Epoch 2/100\n",
            "58/58 [==============================] - 0s 3ms/step - loss: 529891164160.0000\n",
            "Epoch 3/100\n",
            "58/58 [==============================] - 0s 3ms/step - loss: 506379567104.0000\n",
            "Epoch 4/100\n",
            "58/58 [==============================] - 0s 3ms/step - loss: 387427860480.0000\n",
            "Epoch 5/100\n",
            "58/58 [==============================] - 0s 3ms/step - loss: 154354876416.0000\n",
            "Epoch 6/100\n",
            "58/58 [==============================] - 0s 3ms/step - loss: 66808934400.0000\n",
            "Epoch 7/100\n",
            "58/58 [==============================] - 0s 3ms/step - loss: 60352524288.0000\n",
            "Epoch 8/100\n",
            "58/58 [==============================] - 0s 3ms/step - loss: 58789527552.0000\n",
            "Epoch 9/100\n",
            "58/58 [==============================] - 0s 3ms/step - loss: 57986568192.0000\n",
            "Epoch 10/100\n",
            "58/58 [==============================] - 0s 4ms/step - loss: 57453780992.0000\n",
            "Epoch 11/100\n",
            "58/58 [==============================] - 0s 3ms/step - loss: 56885166080.0000\n",
            "Epoch 12/100\n",
            "58/58 [==============================] - 0s 3ms/step - loss: 56451239936.0000\n",
            "Epoch 13/100\n",
            "58/58 [==============================] - 0s 2ms/step - loss: 56016576512.0000\n",
            "Epoch 14/100\n",
            "58/58 [==============================] - 0s 2ms/step - loss: 55651532800.0000\n",
            "Epoch 15/100\n",
            "58/58 [==============================] - 0s 2ms/step - loss: 55303831552.0000\n",
            "Epoch 16/100\n",
            "58/58 [==============================] - 0s 2ms/step - loss: 55011971072.0000\n",
            "Epoch 17/100\n",
            "58/58 [==============================] - 0s 2ms/step - loss: 54744788992.0000\n",
            "Epoch 18/100\n",
            "58/58 [==============================] - 0s 2ms/step - loss: 54518255616.0000\n",
            "Epoch 19/100\n",
            "58/58 [==============================] - 1s 12ms/step - loss: 54140669952.0000\n",
            "Epoch 20/100\n",
            "58/58 [==============================] - 0s 2ms/step - loss: 53835190272.0000\n",
            "Epoch 21/100\n",
            "58/58 [==============================] - 0s 2ms/step - loss: 53575622656.0000\n",
            "Epoch 22/100\n",
            "58/58 [==============================] - 0s 2ms/step - loss: 53360275456.0000\n",
            "Epoch 23/100\n",
            "58/58 [==============================] - 0s 2ms/step - loss: 53090168832.0000\n",
            "Epoch 24/100\n",
            "58/58 [==============================] - 0s 2ms/step - loss: 52915421184.0000\n",
            "Epoch 25/100\n",
            "58/58 [==============================] - 0s 2ms/step - loss: 52763914240.0000\n",
            "Epoch 26/100\n",
            "58/58 [==============================] - 0s 2ms/step - loss: 52463607808.0000\n",
            "Epoch 27/100\n",
            "58/58 [==============================] - 0s 2ms/step - loss: 52296196096.0000\n",
            "Epoch 28/100\n",
            "58/58 [==============================] - 0s 2ms/step - loss: 52076523520.0000\n",
            "Epoch 29/100\n",
            "58/58 [==============================] - 0s 2ms/step - loss: 51961446400.0000\n",
            "Epoch 30/100\n",
            "58/58 [==============================] - 0s 2ms/step - loss: 51668008960.0000\n",
            "Epoch 31/100\n",
            "58/58 [==============================] - 0s 2ms/step - loss: 51559550976.0000\n",
            "Epoch 32/100\n",
            "58/58 [==============================] - 0s 2ms/step - loss: 51349155840.0000\n",
            "Epoch 33/100\n",
            "58/58 [==============================] - 0s 2ms/step - loss: 51078590464.0000\n",
            "Epoch 34/100\n",
            "58/58 [==============================] - 0s 2ms/step - loss: 51039789056.0000\n",
            "Epoch 35/100\n",
            "58/58 [==============================] - 0s 2ms/step - loss: 50829164544.0000\n",
            "Epoch 36/100\n",
            "58/58 [==============================] - 0s 2ms/step - loss: 50601353216.0000\n",
            "Epoch 37/100\n",
            "58/58 [==============================] - 0s 2ms/step - loss: 50516135936.0000\n",
            "Epoch 38/100\n",
            "58/58 [==============================] - 0s 2ms/step - loss: 50339790848.0000\n",
            "Epoch 39/100\n",
            "58/58 [==============================] - 0s 3ms/step - loss: 50212315136.0000\n",
            "Epoch 40/100\n",
            "58/58 [==============================] - 0s 2ms/step - loss: 50001879040.0000\n",
            "Epoch 41/100\n",
            "58/58 [==============================] - 0s 2ms/step - loss: 49895165952.0000\n",
            "Epoch 42/100\n",
            "58/58 [==============================] - 0s 2ms/step - loss: 49756192768.0000\n",
            "Epoch 43/100\n",
            "58/58 [==============================] - 0s 2ms/step - loss: 49632067584.0000\n",
            "Epoch 44/100\n",
            "58/58 [==============================] - 0s 3ms/step - loss: 49452376064.0000\n",
            "Epoch 45/100\n",
            "58/58 [==============================] - 0s 3ms/step - loss: 49370959872.0000\n",
            "Epoch 46/100\n",
            "58/58 [==============================] - 0s 3ms/step - loss: 49221726208.0000\n",
            "Epoch 47/100\n",
            "58/58 [==============================] - 0s 3ms/step - loss: 49142095872.0000\n",
            "Epoch 48/100\n",
            "58/58 [==============================] - 0s 3ms/step - loss: 49031143424.0000\n",
            "Epoch 49/100\n",
            "58/58 [==============================] - 0s 3ms/step - loss: 48857305088.0000\n",
            "Epoch 50/100\n",
            "58/58 [==============================] - 0s 3ms/step - loss: 48818409472.0000\n",
            "Epoch 51/100\n",
            "58/58 [==============================] - 0s 3ms/step - loss: 48690089984.0000\n",
            "Epoch 52/100\n",
            "58/58 [==============================] - 0s 3ms/step - loss: 48683962368.0000\n",
            "Epoch 53/100\n",
            "58/58 [==============================] - 0s 3ms/step - loss: 48563441664.0000\n",
            "Epoch 54/100\n",
            "58/58 [==============================] - 0s 3ms/step - loss: 48519634944.0000\n",
            "Epoch 55/100\n",
            "58/58 [==============================] - 0s 3ms/step - loss: 48319787008.0000\n",
            "Epoch 56/100\n",
            "58/58 [==============================] - 0s 3ms/step - loss: 48280637440.0000\n",
            "Epoch 57/100\n",
            "58/58 [==============================] - 0s 3ms/step - loss: 48226545664.0000\n",
            "Epoch 58/100\n",
            "58/58 [==============================] - 0s 5ms/step - loss: 48205606912.0000\n",
            "Epoch 59/100\n",
            "58/58 [==============================] - 0s 6ms/step - loss: 48120492032.0000\n",
            "Epoch 60/100\n",
            "58/58 [==============================] - 0s 5ms/step - loss: 48009306112.0000\n",
            "Epoch 61/100\n",
            "58/58 [==============================] - 0s 4ms/step - loss: 47913668608.0000\n",
            "Epoch 62/100\n",
            "58/58 [==============================] - 0s 4ms/step - loss: 47861641216.0000\n",
            "Epoch 63/100\n",
            "58/58 [==============================] - 0s 4ms/step - loss: 47872577536.0000\n",
            "Epoch 64/100\n",
            "58/58 [==============================] - 0s 4ms/step - loss: 47827660800.0000\n",
            "Epoch 65/100\n",
            "58/58 [==============================] - 0s 3ms/step - loss: 47699996672.0000\n",
            "Epoch 66/100\n",
            "58/58 [==============================] - 0s 4ms/step - loss: 47733219328.0000\n",
            "Epoch 67/100\n",
            "58/58 [==============================] - 0s 3ms/step - loss: 47600992256.0000\n",
            "Epoch 68/100\n",
            "58/58 [==============================] - 0s 4ms/step - loss: 47633907712.0000\n",
            "Epoch 69/100\n",
            "58/58 [==============================] - 0s 3ms/step - loss: 47538794496.0000\n",
            "Epoch 70/100\n",
            "58/58 [==============================] - 0s 4ms/step - loss: 47488557056.0000\n",
            "Epoch 71/100\n",
            "58/58 [==============================] - 0s 3ms/step - loss: 47471796224.0000\n",
            "Epoch 72/100\n",
            "58/58 [==============================] - 0s 2ms/step - loss: 47423705088.0000\n",
            "Epoch 73/100\n",
            "58/58 [==============================] - 0s 2ms/step - loss: 47439126528.0000\n",
            "Epoch 74/100\n",
            "58/58 [==============================] - 0s 2ms/step - loss: 47305138176.0000\n",
            "Epoch 75/100\n",
            "58/58 [==============================] - 0s 2ms/step - loss: 47298928640.0000\n",
            "Epoch 76/100\n",
            "58/58 [==============================] - 0s 2ms/step - loss: 47298588672.0000\n",
            "Epoch 77/100\n",
            "58/58 [==============================] - 0s 2ms/step - loss: 47243661312.0000\n",
            "Epoch 78/100\n",
            "58/58 [==============================] - 0s 2ms/step - loss: 47252373504.0000\n",
            "Epoch 79/100\n",
            "58/58 [==============================] - 0s 2ms/step - loss: 47307902976.0000\n",
            "Epoch 80/100\n",
            "58/58 [==============================] - 0s 2ms/step - loss: 47200833536.0000\n",
            "Epoch 81/100\n",
            "58/58 [==============================] - 0s 2ms/step - loss: 47101632512.0000\n",
            "Epoch 82/100\n",
            "58/58 [==============================] - 0s 2ms/step - loss: 47159844864.0000\n",
            "Epoch 83/100\n",
            "58/58 [==============================] - 0s 2ms/step - loss: 47132770304.0000\n",
            "Epoch 84/100\n",
            "58/58 [==============================] - 0s 2ms/step - loss: 47060881408.0000\n",
            "Epoch 85/100\n",
            "58/58 [==============================] - 0s 2ms/step - loss: 47000268800.0000\n",
            "Epoch 86/100\n",
            "58/58 [==============================] - 0s 2ms/step - loss: 46985908224.0000\n",
            "Epoch 87/100\n",
            "58/58 [==============================] - 0s 2ms/step - loss: 47005085696.0000\n",
            "Epoch 88/100\n",
            "58/58 [==============================] - 0s 3ms/step - loss: 46916882432.0000\n",
            "Epoch 89/100\n",
            "58/58 [==============================] - 0s 2ms/step - loss: 47084945408.0000\n",
            "Epoch 90/100\n",
            "58/58 [==============================] - 0s 2ms/step - loss: 46985461760.0000\n",
            "Epoch 91/100\n",
            "58/58 [==============================] - 0s 2ms/step - loss: 46904307712.0000\n",
            "Epoch 92/100\n",
            "58/58 [==============================] - 0s 2ms/step - loss: 46827667456.0000\n",
            "Epoch 93/100\n",
            "58/58 [==============================] - 0s 2ms/step - loss: 46876565504.0000\n",
            "Epoch 94/100\n",
            "58/58 [==============================] - 0s 2ms/step - loss: 46805196800.0000\n",
            "Epoch 95/100\n",
            "58/58 [==============================] - 0s 2ms/step - loss: 46769680384.0000\n",
            "Epoch 96/100\n",
            "58/58 [==============================] - 0s 2ms/step - loss: 46836928512.0000\n",
            "Epoch 97/100\n",
            "58/58 [==============================] - 0s 2ms/step - loss: 46892777472.0000\n",
            "Epoch 98/100\n",
            "58/58 [==============================] - 0s 2ms/step - loss: 46689632256.0000\n",
            "Epoch 99/100\n",
            "58/58 [==============================] - 0s 2ms/step - loss: 46718959616.0000\n",
            "Epoch 100/100\n",
            "58/58 [==============================] - 0s 2ms/step - loss: 46732320768.0000\n",
            "39/39 [==============================] - 0s 2ms/step\n"
          ]
        }
      ]
    },
    {
      "cell_type": "markdown",
      "source": [
        "##Adding Regularization"
      ],
      "metadata": {
        "id": "6OQ8M3Db_FLA"
      }
    },
    {
      "cell_type": "code",
      "source": [
        "# Version 3: Adding Regularization\n",
        "model_v3 = Sequential()\n",
        "model_v3.add(Dense(units=128, activation='relu', input_dim=X_train_pca.shape[1], kernel_regularizer=l2(0.01)))  # Input layer with L2 regularization\n",
        "model_v3.add(Dense(units=64, activation='relu', kernel_regularizer=l2(0.01)))  # Hidden layer 1 with L2 regularization\n",
        "model_v3.add(Dense(units=64, activation='relu', kernel_regularizer=l2(0.01)))  # Hidden layer 2 with L2 regularization\n",
        "model_v3.add(Dense(units=32, activation='relu', kernel_regularizer=l2(0.01)))  # Hidden layer 3 with L2 regularization\n",
        "model_v3.add(Dense(units=1, activation='linear'))  # Output layer\n",
        "\n",
        "# Compile the model\n",
        "model_v3.compile(optimizer='adam', loss='mean_squared_error')\n",
        "\n",
        "# Train the model on training data\n",
        "model_v3.fit(X_train_pca, y_train, epochs=100, batch_size=64)\n",
        "\n",
        "# Evaluate the model on test data\n",
        "y_pred_v3 = model_v3.predict(X_test_pca)\n"
      ],
      "metadata": {
        "colab": {
          "base_uri": "https://localhost:8080/"
        },
        "id": "LEZL_iE48SfG",
        "outputId": "29a2d8a1-799d-4363-c11c-28e03e0c7a93"
      },
      "execution_count": 293,
      "outputs": [
        {
          "output_type": "stream",
          "name": "stdout",
          "text": [
            "Epoch 1/100\n",
            "58/58 [==============================] - 2s 4ms/step - loss: 531674955776.0000\n",
            "Epoch 2/100\n",
            "58/58 [==============================] - 0s 4ms/step - loss: 529384439808.0000\n",
            "Epoch 3/100\n",
            "58/58 [==============================] - 0s 4ms/step - loss: 498459508736.0000\n",
            "Epoch 4/100\n",
            "58/58 [==============================] - 0s 4ms/step - loss: 345192857600.0000\n",
            "Epoch 5/100\n",
            "58/58 [==============================] - 0s 2ms/step - loss: 109179994112.0000\n",
            "Epoch 6/100\n",
            "58/58 [==============================] - 0s 2ms/step - loss: 61377916928.0000\n",
            "Epoch 7/100\n",
            "58/58 [==============================] - 0s 2ms/step - loss: 59132325888.0000\n",
            "Epoch 8/100\n",
            "58/58 [==============================] - 0s 2ms/step - loss: 58269646848.0000\n",
            "Epoch 9/100\n",
            "58/58 [==============================] - 0s 2ms/step - loss: 57574309888.0000\n",
            "Epoch 10/100\n",
            "58/58 [==============================] - 0s 2ms/step - loss: 57011740672.0000\n",
            "Epoch 11/100\n",
            "58/58 [==============================] - 0s 3ms/step - loss: 56539545600.0000\n",
            "Epoch 12/100\n",
            "58/58 [==============================] - 0s 2ms/step - loss: 56030138368.0000\n",
            "Epoch 13/100\n",
            "58/58 [==============================] - 0s 2ms/step - loss: 55624355840.0000\n",
            "Epoch 14/100\n",
            "58/58 [==============================] - 0s 3ms/step - loss: 55252668416.0000\n",
            "Epoch 15/100\n",
            "58/58 [==============================] - 0s 2ms/step - loss: 54908751872.0000\n",
            "Epoch 16/100\n",
            "58/58 [==============================] - 0s 2ms/step - loss: 54606999552.0000\n",
            "Epoch 17/100\n",
            "58/58 [==============================] - 0s 2ms/step - loss: 54282039296.0000\n",
            "Epoch 18/100\n",
            "58/58 [==============================] - 0s 2ms/step - loss: 53963993088.0000\n",
            "Epoch 19/100\n",
            "58/58 [==============================] - 0s 2ms/step - loss: 53665615872.0000\n",
            "Epoch 20/100\n",
            "58/58 [==============================] - 0s 2ms/step - loss: 53412753408.0000\n",
            "Epoch 21/100\n",
            "58/58 [==============================] - 0s 2ms/step - loss: 53130166272.0000\n",
            "Epoch 22/100\n",
            "58/58 [==============================] - 0s 2ms/step - loss: 52915814400.0000\n",
            "Epoch 23/100\n",
            "58/58 [==============================] - 0s 2ms/step - loss: 52753076224.0000\n",
            "Epoch 24/100\n",
            "58/58 [==============================] - 0s 2ms/step - loss: 52468142080.0000\n",
            "Epoch 25/100\n",
            "58/58 [==============================] - 0s 2ms/step - loss: 52252418048.0000\n",
            "Epoch 26/100\n",
            "58/58 [==============================] - 0s 2ms/step - loss: 52015202304.0000\n",
            "Epoch 27/100\n",
            "58/58 [==============================] - 0s 2ms/step - loss: 51809685504.0000\n",
            "Epoch 28/100\n",
            "58/58 [==============================] - 0s 2ms/step - loss: 51569287168.0000\n",
            "Epoch 29/100\n",
            "58/58 [==============================] - 0s 2ms/step - loss: 51538915328.0000\n",
            "Epoch 30/100\n",
            "58/58 [==============================] - 0s 2ms/step - loss: 51185119232.0000\n",
            "Epoch 31/100\n",
            "58/58 [==============================] - 0s 2ms/step - loss: 51122810880.0000\n",
            "Epoch 32/100\n",
            "58/58 [==============================] - 0s 2ms/step - loss: 50836094976.0000\n",
            "Epoch 33/100\n",
            "58/58 [==============================] - 0s 2ms/step - loss: 50768318464.0000\n",
            "Epoch 34/100\n",
            "58/58 [==============================] - 0s 3ms/step - loss: 50497200128.0000\n",
            "Epoch 35/100\n",
            "58/58 [==============================] - 0s 2ms/step - loss: 50381799424.0000\n",
            "Epoch 36/100\n",
            "58/58 [==============================] - 0s 2ms/step - loss: 50224238592.0000\n",
            "Epoch 37/100\n",
            "58/58 [==============================] - 0s 2ms/step - loss: 50181869568.0000\n",
            "Epoch 38/100\n",
            "58/58 [==============================] - 0s 2ms/step - loss: 49949310976.0000\n",
            "Epoch 39/100\n",
            "58/58 [==============================] - 0s 2ms/step - loss: 49779830784.0000\n",
            "Epoch 40/100\n",
            "58/58 [==============================] - 0s 2ms/step - loss: 49681137664.0000\n",
            "Epoch 41/100\n",
            "58/58 [==============================] - 0s 2ms/step - loss: 49490354176.0000\n",
            "Epoch 42/100\n",
            "58/58 [==============================] - 0s 2ms/step - loss: 49514549248.0000\n",
            "Epoch 43/100\n",
            "58/58 [==============================] - 0s 2ms/step - loss: 49433600000.0000\n",
            "Epoch 44/100\n",
            "58/58 [==============================] - 0s 2ms/step - loss: 49185865728.0000\n",
            "Epoch 45/100\n",
            "58/58 [==============================] - 0s 2ms/step - loss: 49064022016.0000\n",
            "Epoch 46/100\n",
            "58/58 [==============================] - 0s 3ms/step - loss: 49098637312.0000\n",
            "Epoch 47/100\n",
            "58/58 [==============================] - 0s 2ms/step - loss: 48811831296.0000\n",
            "Epoch 48/100\n",
            "58/58 [==============================] - 0s 2ms/step - loss: 48710516736.0000\n",
            "Epoch 49/100\n",
            "58/58 [==============================] - 0s 2ms/step - loss: 48588701696.0000\n",
            "Epoch 50/100\n",
            "58/58 [==============================] - 0s 2ms/step - loss: 48548229120.0000\n",
            "Epoch 51/100\n",
            "58/58 [==============================] - 0s 2ms/step - loss: 48431362048.0000\n",
            "Epoch 52/100\n",
            "58/58 [==============================] - 0s 2ms/step - loss: 48389038080.0000\n",
            "Epoch 53/100\n",
            "58/58 [==============================] - 0s 2ms/step - loss: 48324853760.0000\n",
            "Epoch 54/100\n",
            "58/58 [==============================] - 0s 2ms/step - loss: 48211570688.0000\n",
            "Epoch 55/100\n",
            "58/58 [==============================] - 0s 2ms/step - loss: 48131330048.0000\n",
            "Epoch 56/100\n",
            "58/58 [==============================] - 0s 2ms/step - loss: 48030998528.0000\n",
            "Epoch 57/100\n",
            "58/58 [==============================] - 0s 3ms/step - loss: 47963279360.0000\n",
            "Epoch 58/100\n",
            "58/58 [==============================] - 0s 2ms/step - loss: 48113606656.0000\n",
            "Epoch 59/100\n",
            "58/58 [==============================] - 0s 2ms/step - loss: 47818055680.0000\n",
            "Epoch 60/100\n",
            "58/58 [==============================] - 0s 2ms/step - loss: 47773446144.0000\n",
            "Epoch 61/100\n",
            "58/58 [==============================] - 0s 2ms/step - loss: 47706607616.0000\n",
            "Epoch 62/100\n",
            "58/58 [==============================] - 0s 3ms/step - loss: 47677489152.0000\n",
            "Epoch 63/100\n",
            "58/58 [==============================] - 0s 2ms/step - loss: 47562571776.0000\n",
            "Epoch 64/100\n",
            "58/58 [==============================] - 0s 2ms/step - loss: 47761227776.0000\n",
            "Epoch 65/100\n",
            "58/58 [==============================] - 0s 2ms/step - loss: 47648022528.0000\n",
            "Epoch 66/100\n",
            "58/58 [==============================] - 0s 2ms/step - loss: 47469862912.0000\n",
            "Epoch 67/100\n",
            "58/58 [==============================] - 0s 2ms/step - loss: 47414329344.0000\n",
            "Epoch 68/100\n",
            "58/58 [==============================] - 0s 2ms/step - loss: 47357411328.0000\n",
            "Epoch 69/100\n",
            "58/58 [==============================] - 0s 2ms/step - loss: 47342317568.0000\n",
            "Epoch 70/100\n",
            "58/58 [==============================] - 0s 2ms/step - loss: 47222992896.0000\n",
            "Epoch 71/100\n",
            "58/58 [==============================] - 0s 2ms/step - loss: 47319277568.0000\n",
            "Epoch 72/100\n",
            "58/58 [==============================] - 0s 2ms/step - loss: 47280820224.0000\n",
            "Epoch 73/100\n",
            "58/58 [==============================] - 0s 2ms/step - loss: 47178321920.0000\n",
            "Epoch 74/100\n",
            "58/58 [==============================] - 0s 2ms/step - loss: 47103225856.0000\n",
            "Epoch 75/100\n",
            "58/58 [==============================] - 0s 4ms/step - loss: 47147479040.0000\n",
            "Epoch 76/100\n",
            "58/58 [==============================] - 0s 4ms/step - loss: 47103856640.0000\n",
            "Epoch 77/100\n",
            "58/58 [==============================] - 0s 4ms/step - loss: 47045664768.0000\n",
            "Epoch 78/100\n",
            "58/58 [==============================] - 0s 3ms/step - loss: 46963286016.0000\n",
            "Epoch 79/100\n",
            "58/58 [==============================] - 0s 3ms/step - loss: 46955683840.0000\n",
            "Epoch 80/100\n",
            "58/58 [==============================] - 0s 3ms/step - loss: 47147905024.0000\n",
            "Epoch 81/100\n",
            "58/58 [==============================] - 0s 4ms/step - loss: 46900408320.0000\n",
            "Epoch 82/100\n",
            "58/58 [==============================] - 0s 4ms/step - loss: 46990049280.0000\n",
            "Epoch 83/100\n",
            "58/58 [==============================] - 0s 3ms/step - loss: 46809497600.0000\n",
            "Epoch 84/100\n",
            "58/58 [==============================] - 0s 4ms/step - loss: 46924791808.0000\n",
            "Epoch 85/100\n",
            "58/58 [==============================] - 0s 3ms/step - loss: 46758383616.0000\n",
            "Epoch 86/100\n",
            "58/58 [==============================] - 0s 3ms/step - loss: 46897139712.0000\n",
            "Epoch 87/100\n",
            "58/58 [==============================] - 0s 4ms/step - loss: 46776086528.0000\n",
            "Epoch 88/100\n",
            "58/58 [==============================] - 0s 3ms/step - loss: 46698504192.0000\n",
            "Epoch 89/100\n",
            "58/58 [==============================] - 0s 3ms/step - loss: 46708928512.0000\n",
            "Epoch 90/100\n",
            "58/58 [==============================] - 0s 2ms/step - loss: 46811504640.0000\n",
            "Epoch 91/100\n",
            "58/58 [==============================] - 0s 2ms/step - loss: 46643556352.0000\n",
            "Epoch 92/100\n",
            "58/58 [==============================] - 0s 2ms/step - loss: 46665461760.0000\n",
            "Epoch 93/100\n",
            "58/58 [==============================] - 0s 2ms/step - loss: 46703271936.0000\n",
            "Epoch 94/100\n",
            "58/58 [==============================] - 0s 2ms/step - loss: 46583980032.0000\n",
            "Epoch 95/100\n",
            "58/58 [==============================] - 0s 3ms/step - loss: 46571077632.0000\n",
            "Epoch 96/100\n",
            "58/58 [==============================] - 0s 2ms/step - loss: 46645293056.0000\n",
            "Epoch 97/100\n",
            "58/58 [==============================] - 0s 2ms/step - loss: 46541770752.0000\n",
            "Epoch 98/100\n",
            "58/58 [==============================] - 0s 2ms/step - loss: 46468173824.0000\n",
            "Epoch 99/100\n",
            "58/58 [==============================] - 0s 2ms/step - loss: 46513467392.0000\n",
            "Epoch 100/100\n",
            "58/58 [==============================] - 0s 2ms/step - loss: 46500646912.0000\n",
            "39/39 [==============================] - 0s 2ms/step\n"
          ]
        }
      ]
    },
    {
      "cell_type": "markdown",
      "source": [
        "##Model 1"
      ],
      "metadata": {
        "id": "igYycl3b9g_a"
      }
    },
    {
      "cell_type": "code",
      "source": [
        "# Predictions from Model 1\n",
        "y_pred_v1 = model_v1.predict(X_test_pca)\n",
        "\n",
        "# Calculate MAE, MSE, RMSE, and R2 for Model 1\n",
        "mae_v1 = mean_absolute_error(y_test, y_pred_v1)\n",
        "mse_v1 = mean_squared_error(y_test, y_pred_v1)\n",
        "rmse_v1 = np.sqrt(mse_v1)\n",
        "r2_v1 = r2_score(y_test, y_pred_v1)\n",
        "\n",
        "print(f\"Model 1 Metrics:\")\n",
        "print(f\"MAE: {mae_v1:.2f}\")\n",
        "print(f\"MSE: {mse_v1:.2f}\")\n",
        "print(f\"RMSE: {rmse_v1:.2f}\")\n",
        "print(f\"R2 Score: {r2_v1:.2f}\")\n"
      ],
      "metadata": {
        "colab": {
          "base_uri": "https://localhost:8080/"
        },
        "id": "6D0NnL9O9Bqi",
        "outputId": "aa00f28e-1bef-427c-f955-8d2b66857739"
      },
      "execution_count": 294,
      "outputs": [
        {
          "output_type": "stream",
          "name": "stdout",
          "text": [
            "39/39 [==============================] - 0s 2ms/step\n",
            "Model 1 Metrics:\n",
            "MAE: 186938.74\n",
            "MSE: 63591143617.17\n",
            "RMSE: 252172.84\n",
            "R2 Score: 0.27\n"
          ]
        }
      ]
    },
    {
      "cell_type": "code",
      "source": [
        "# Create a sequential model\n",
        "model2 = Sequential()\n",
        "\n",
        "# Add an input layer\n",
        "model2.add(Dense(units=128, activation='relu', input_dim=input_dim))\n",
        "\n",
        "# Add a hidden layer with more units\n",
        "model2.add(Dense(units=64, activation='relu'))\n",
        "\n",
        "# Add an output layer (no activation for regression)\n",
        "model2.add(Dense(units=1))\n",
        "\n",
        "# Compile the model\n",
        "model2.compile(optimizer='adam', loss='mean_squared_error', metrics=['mae', 'mse'])\n"
      ],
      "metadata": {
        "id": "1duQEdzO6LcX"
      },
      "execution_count": 295,
      "outputs": []
    },
    {
      "cell_type": "markdown",
      "source": [
        "##Model 2"
      ],
      "metadata": {
        "id": "I4eAxIbt9kGS"
      }
    },
    {
      "cell_type": "code",
      "source": [
        "# Predictions from Model 2\n",
        "y_pred_v2 = model_v2.predict(X_test_pca)\n",
        "\n",
        "# Calculate MAE, MSE, RMSE, and R2 for Model 2\n",
        "mae_v2 = mean_absolute_error(y_test, y_pred_v2)\n",
        "mse_v2 = mean_squared_error(y_test, y_pred_v2)\n",
        "rmse_v2 = np.sqrt(mse_v2)\n",
        "r2_v2 = r2_score(y_test, y_pred_v2)\n",
        "\n",
        "print(f\"Model 2 Metrics:\")\n",
        "print(f\"MAE: {mae_v2:.2f}\")\n",
        "print(f\"MSE: {mse_v2:.2f}\")\n",
        "print(f\"RMSE: {rmse_v2:.2f}\")\n",
        "print(f\"R2 Score: {r2_v2:.2f}\")\n"
      ],
      "metadata": {
        "colab": {
          "base_uri": "https://localhost:8080/"
        },
        "id": "UwNNRUd09DYn",
        "outputId": "bb9e35d2-d464-4eb8-c64b-33c8a2fc7d04"
      },
      "execution_count": 296,
      "outputs": [
        {
          "output_type": "stream",
          "name": "stdout",
          "text": [
            "39/39 [==============================] - 0s 2ms/step\n",
            "Model 2 Metrics:\n",
            "MAE: 156207.89\n",
            "MSE: 47270028327.59\n",
            "RMSE: 217416.72\n",
            "R2 Score: 0.46\n"
          ]
        }
      ]
    },
    {
      "cell_type": "markdown",
      "source": [
        "## Model 3"
      ],
      "metadata": {
        "id": "2CEOFcz89mxO"
      }
    },
    {
      "cell_type": "code",
      "source": [
        "# Create a sequential model\n",
        "model3 = Sequential()\n",
        "\n",
        "# Add an input layer\n",
        "model3.add(Dense(units=128, activation='relu', input_dim=input_dim))\n",
        "\n",
        "# Add a hidden layer with regularization\n",
        "model3.add(Dense(units=64, activation='relu', kernel_regularizer=l2(0.01)))\n",
        "\n",
        "# Add an output layer (no activation for regression)\n",
        "model3.add(Dense(units=1))\n",
        "\n",
        "# Compile the model\n",
        "model3.compile(optimizer='adam', loss='mean_squared_error', metrics=['mae', 'mse'])\n"
      ],
      "metadata": {
        "id": "12sDkxWV6NO6"
      },
      "execution_count": 297,
      "outputs": []
    },
    {
      "cell_type": "code",
      "source": [
        "# Predictions from Model 3\n",
        "y_pred_v3 = model_v3.predict(X_test_pca)\n",
        "\n",
        "# Calculate MAE, MSE, RMSE, and R2 for Model 3\n",
        "mae_v3 = mean_absolute_error(y_test, y_pred_v3)\n",
        "mse_v3 = mean_squared_error(y_test, y_pred_v3)\n",
        "rmse_v3 = np.sqrt(mse_v3)\n",
        "r2_v3 = r2_score(y_test, y_pred_v3)\n",
        "\n",
        "print(f\"Model 3 Metrics:\")\n",
        "print(f\"MAE: {mae_v3:.2f}\")\n",
        "print(f\"MSE: {mse_v3:.2f}\")\n",
        "print(f\"RMSE: {rmse_v3:.2f}\")\n",
        "print(f\"R2 Score: {r2_v3:.2f}\")\n"
      ],
      "metadata": {
        "colab": {
          "base_uri": "https://localhost:8080/"
        },
        "id": "eOD8mE2i9F3B",
        "outputId": "856f109e-080a-43db-b54d-f18fa5ce34b2"
      },
      "execution_count": 298,
      "outputs": [
        {
          "output_type": "stream",
          "name": "stdout",
          "text": [
            "39/39 [==============================] - 0s 1ms/step\n",
            "Model 3 Metrics:\n",
            "MAE: 155456.96\n",
            "MSE: 47187855985.85\n",
            "RMSE: 217227.66\n",
            "R2 Score: 0.46\n"
          ]
        }
      ]
    },
    {
      "cell_type": "markdown",
      "source": [
        "##Final Model"
      ],
      "metadata": {
        "id": "7Qe5wWac9pep"
      }
    },
    {
      "cell_type": "markdown",
      "source": [
        "Model 3 appears to be the best choice"
      ],
      "metadata": {
        "id": "TmnORAj69tQ1"
      }
    },
    {
      "cell_type": "markdown",
      "source": [
        "Lower MAE: Model 3 has the lowest Mean Absolute Error (MAE) among all three models. This indicates that, on average, the predictions made by Model 3 have the smallest absolute difference from the actual sale prices."
      ],
      "metadata": {
        "id": "ks6udi8U9xNn"
      }
    },
    {
      "cell_type": "markdown",
      "source": [
        "Lower MSE and RMSE: Model 3 also has lower Mean Squared Error (MSE) and Root Mean Squared Error (RMSE) compared to both Model 1 and Model 2. These metrics measure the average squared difference and the square root of the squared difference between predictions and actual values, respectively. Lower MSE and RMSE indicate that Model 3's predictions are closer to the actual values in terms of magnitude."
      ],
      "metadata": {
        "id": "O0UPp64Q903S"
      }
    },
    {
      "cell_type": "markdown",
      "source": [
        "Higher R-squared (R2) Score: Model 3 has the highest R2 score among all three models. R2 score measures the proportion of the variance in the dependent variable (sale prices) that is predictable from the independent variables (features). A higher R2 score indicates that Model 3 explains a greater portion of the variance in sale prices, which implies better model fit."
      ],
      "metadata": {
        "id": "ukZ1HPXW946N"
      }
    },
    {
      "cell_type": "markdown",
      "source": [
        "Model 3 provides a reasonable starting point for predicting house sale prices, but it may not fully address the business problem. Further improvements in prediction accuracy are desirable, especially in the real estate industry where precise pricing is crucial."
      ],
      "metadata": {
        "id": "Whe1lmMd-KDE"
      }
    },
    {
      "cell_type": "markdown",
      "source": [
        "# Sources"
      ],
      "metadata": {
        "id": "JrAUvULcDzUm"
      }
    },
    {
      "cell_type": "markdown",
      "source": [
        "KMeans - Find K - https://colab.research.google.com/drive/1TX5WLd2uNzl4P88Ie_FsOixCtMIB1DMl#scrollTo=BgAikfncOkgE"
      ],
      "metadata": {
        "id": "tRdonsFvD1ud"
      }
    },
    {
      "cell_type": "markdown",
      "source": [
        "Week 11 slides: https://docs.google.com/presentation/d/1eqR2lkm1A-IzK-fphQY7QSYlEq8goBgV/edit#slide=id.p22"
      ],
      "metadata": {
        "id": "w1VBHdQPEleX"
      }
    },
    {
      "cell_type": "markdown",
      "source": [
        "Week 14 slides: https://docs.google.com/presentation/d/1sZAynf9--MRtUAIdGIDTFp9Lw3wAnzpw/edit?rtpof=true&sd=true"
      ],
      "metadata": {
        "id": "2OObP-_FES7f"
      }
    },
    {
      "cell_type": "markdown",
      "source": [
        " Mock Practice Belt Exam: https://colab.research.google.com/drive/18v5DW0kJdVTqsofKnh1bh_Dm69ZcuSin"
      ],
      "metadata": {
        "id": "lzSnDiZ9ECQ6"
      }
    },
    {
      "cell_type": "markdown",
      "source": [
        "SOLUTIONS Challenge_ Tuning Neural Networks.ipynb: https://colab.research.google.com/drive/1WFnQTTsOoPpbiH46lxjRC0qnAmNLRFh5#scrollTo=GOe9CMP2PtDT"
      ],
      "metadata": {
        "id": "7SNTN6kBExme"
      }
    }
  ]
}